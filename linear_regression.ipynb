{
 "cells": [
  {
   "cell_type": "code",
   "execution_count": 36,
   "metadata": {},
   "outputs": [],
   "source": [
    "import random\n",
    "import pandas as pd\n",
    "import numpy as np"
   ]
  },
  {
   "cell_type": "code",
   "execution_count": 37,
   "metadata": {},
   "outputs": [
    {
     "data": {
      "text/html": [
       "<div>\n",
       "<style scoped>\n",
       "    .dataframe tbody tr th:only-of-type {\n",
       "        vertical-align: middle;\n",
       "    }\n",
       "\n",
       "    .dataframe tbody tr th {\n",
       "        vertical-align: top;\n",
       "    }\n",
       "\n",
       "    .dataframe thead th {\n",
       "        text-align: right;\n",
       "    }\n",
       "</style>\n",
       "<table border=\"1\" class=\"dataframe\">\n",
       "  <thead>\n",
       "    <tr style=\"text-align: right;\">\n",
       "      <th></th>\n",
       "      <th>x</th>\n",
       "      <th>y</th>\n",
       "    </tr>\n",
       "  </thead>\n",
       "  <tbody>\n",
       "    <tr>\n",
       "      <th>0</th>\n",
       "      <td>0.1</td>\n",
       "      <td>8.298133</td>\n",
       "    </tr>\n",
       "    <tr>\n",
       "      <th>1</th>\n",
       "      <td>0.2</td>\n",
       "      <td>4.919282</td>\n",
       "    </tr>\n",
       "    <tr>\n",
       "      <th>2</th>\n",
       "      <td>0.3</td>\n",
       "      <td>4.145139</td>\n",
       "    </tr>\n",
       "    <tr>\n",
       "      <th>3</th>\n",
       "      <td>0.4</td>\n",
       "      <td>6.850788</td>\n",
       "    </tr>\n",
       "    <tr>\n",
       "      <th>4</th>\n",
       "      <td>0.5</td>\n",
       "      <td>6.375323</td>\n",
       "    </tr>\n",
       "    <tr>\n",
       "      <th>...</th>\n",
       "      <td>...</td>\n",
       "      <td>...</td>\n",
       "    </tr>\n",
       "    <tr>\n",
       "      <th>95</th>\n",
       "      <td>9.6</td>\n",
       "      <td>28.420698</td>\n",
       "    </tr>\n",
       "    <tr>\n",
       "      <th>96</th>\n",
       "      <td>9.7</td>\n",
       "      <td>27.984652</td>\n",
       "    </tr>\n",
       "    <tr>\n",
       "      <th>97</th>\n",
       "      <td>9.8</td>\n",
       "      <td>30.336851</td>\n",
       "    </tr>\n",
       "    <tr>\n",
       "      <th>98</th>\n",
       "      <td>9.9</td>\n",
       "      <td>30.376285</td>\n",
       "    </tr>\n",
       "    <tr>\n",
       "      <th>99</th>\n",
       "      <td>10.0</td>\n",
       "      <td>27.453770</td>\n",
       "    </tr>\n",
       "  </tbody>\n",
       "</table>\n",
       "<p>100 rows × 2 columns</p>\n",
       "</div>"
      ],
      "text/plain": [
       "       x          y\n",
       "0    0.1   8.298133\n",
       "1    0.2   4.919282\n",
       "2    0.3   4.145139\n",
       "3    0.4   6.850788\n",
       "4    0.5   6.375323\n",
       "..   ...        ...\n",
       "95   9.6  28.420698\n",
       "96   9.7  27.984652\n",
       "97   9.8  30.336851\n",
       "98   9.9  30.376285\n",
       "99  10.0  27.453770\n",
       "\n",
       "[100 rows x 2 columns]"
      ]
     },
     "execution_count": 37,
     "metadata": {},
     "output_type": "execute_result"
    }
   ],
   "source": [
    "df1 = pd.read_csv(\"Data1.csv\")\n",
    "df1"
   ]
  },
  {
   "cell_type": "code",
   "execution_count": 38,
   "metadata": {},
   "outputs": [
    {
     "name": "stdout",
     "output_type": "stream",
     "text": [
      "Final value of m: 2.3840600660571836\n",
      "Final value of c: 5.680787126761231\n"
     ]
    }
   ],
   "source": [
    "# Extract xi and yi\n",
    "df = pd.read_csv(\"Data1.csv\")\n",
    "xi = df['x']\n",
    "yi = df['y']\n",
    "\n",
    "# Calculate necessary sums\n",
    "n = len(df)\n",
    "sum_x = xi.sum()\n",
    "sum_y = yi.sum()\n",
    "sum_xy = (xi * yi).sum()\n",
    "sum_x_squared = (xi ** 2).sum()\n",
    "\n",
    "# Calculate m and c using the normal equations\n",
    "m = (n * sum_xy - sum_x * sum_y) / (n * sum_x_squared - sum_x**2)\n",
    "c = (sum_y * sum_x_squared - sum_x * sum_xy) / (n * sum_x_squared - sum_x**2)\n",
    "\n",
    "# Print the final values of m and c\n",
    "print(\"Final value of m:\", m)\n",
    "print(\"Final value of c:\", c)\n"
   ]
  },
  {
   "cell_type": "code",
   "execution_count": 39,
   "metadata": {},
   "outputs": [
    {
     "name": "stdout",
     "output_type": "stream",
     "text": [
      "18.077899470258586\n"
     ]
    }
   ],
   "source": [
    "x=5.2\n",
    "m = (n * sum_xy - sum_x * sum_y) / (n * sum_x_squared - sum_x**2)\n",
    "c = (sum_y * sum_x_squared - sum_x * sum_xy) / (n * sum_x_squared - sum_x**2)\n",
    "y=m*x+c\n",
    "print(y)"
   ]
  },
  {
   "cell_type": "markdown",
   "metadata": {},
   "source": [
    "DATASET 4"
   ]
  },
  {
   "cell_type": "code",
   "execution_count": 40,
   "metadata": {},
   "outputs": [
    {
     "name": "stdout",
     "output_type": "stream",
     "text": [
      "w :  [[13.23947782]\n",
      " [ 6.13243763]\n",
      " [ 2.39226554]\n",
      " [ 7.74681038]]\n",
      "Mean Square Error :  34.62048082924356\n",
      "Mean Absolute Error :  5.155505630379489\n",
      "R_Square Value :  0.9841749058943147\n",
      "Root Mean Sq Error:  5.883917133104745\n"
     ]
    }
   ],
   "source": [
    "import pandas as pd\n",
    "import numpy as np\n",
    "\n",
    "df4 = pd.read_csv(\"Data4.csv\")\n",
    "# Insert a column of ones as x0\n",
    "df4.insert(1, 'x0', 1)\n",
    "input_columns = ['x0', 'x1', 'x2', 'x3']\n",
    "input_df = df4[input_columns]\n",
    "\n",
    "def linear(input, output):\n",
    "\n",
    "    input_df = input.copy()\n",
    "    df4['y'] = output\n",
    "\n",
    "    # NumPy array 'x' containing the transpose of the input features\n",
    "    X = np.array([input_df[feature] for feature in input_columns])\n",
    "    X_transpose = X.T\n",
    "\n",
    "    #product of x and its transpose\n",
    "    productof_X_X_transpose = np.dot(X, X_transpose)\n",
    "\n",
    "    #inverse of x_xt\n",
    "    inverseof_X_X_transpose = np.linalg.inv(productof_X_X_transpose)\n",
    "\n",
    "    #the product of x and the target variable 'y'\n",
    "    sum_xy = np.dot(X, np.array([df4['y']]).T)\n",
    "\n",
    "    #the weight vector 'w'\n",
    "    w = np.dot(inverseof_X_X_transpose, sum_xy)\n",
    "    print(\"w : \", w)\n",
    "    y_predicted = X_transpose @ w\n",
    "    return y_predicted\n",
    "y_predicted = linear(input_df, df4['y'])\n",
    "\n",
    "def calculate_error(Y_predicted, Y_actual):\n",
    "\n",
    "    Y_actual = np.array([Y_actual]).T\n",
    "    mse = (((Y_actual - Y_predicted)**2)/len(Y_actual)).sum()\n",
    "    mae = np.mean(np.abs(Y_actual - Y_predicted))\n",
    "    rmse = np.sqrt(mse)\n",
    "\n",
    "    rss = ((Y_actual - Y_predicted)**2).sum()\n",
    "    tss = ((Y_actual - Y_actual.sum()/len(Y_actual))**2).sum()\n",
    "    r_square = (1 - rss/tss)\n",
    "\n",
    "    print(\"Mean Square Error : \", mse)\n",
    "    print(\"Mean Absolute Error : \", mae)\n",
    "    print(\"R_Square Value : \", r_square)\n",
    "    print(\"Root Mean Sq Error: \", rmse)\n",
    "    \n",
    "calculate_error(y_predicted,df4['y'])"
   ]
  },
  {
   "cell_type": "code",
   "execution_count": 41,
   "metadata": {},
   "outputs": [
    {
     "name": "stdout",
     "output_type": "stream",
     "text": [
      "Scikit-learn Model:\n",
      "Mean Squared Error: 34.62048082924357\n",
      "Mean Absolute Error: 5.155505630378744\n",
      "R-squared: 0.9841749058943147\n",
      "Root Mean Squared Error: 5.883917133104745\n"
     ]
    }
   ],
   "source": [
    "\n",
    "from sklearn.linear_model import LinearRegression\n",
    "from sklearn.metrics import mean_squared_error, mean_absolute_error, r2_score\n",
    "# Load the data\n",
    "df4 = pd.read_csv(\"Data4.csv\")\n",
    "# Insert a column of ones as x0\n",
    "df4.insert(1, 'x0', 1)\n",
    "\n",
    "# Prepare the input and output data\n",
    "input_columns = ['x0', 'x1', 'x2', 'x3']\n",
    "X = df4[input_columns].values\n",
    "y = df4['y'].values\n",
    "\n",
    "# Train a linear regression model using scikit-learn\n",
    "model_sklearn = LinearRegression()\n",
    "model_sklearn.fit(X, y)\n",
    "\n",
    "# Predict using scikit-learn model\n",
    "y_pred_sklearn = model_sklearn.predict(X)\n",
    "\n",
    "# Calculate evaluation metrics using scikit-learn model\n",
    "mse_sklearn = mean_squared_error(y, y_pred_sklearn)\n",
    "mae_sklearn = mean_absolute_error(y, y_pred_sklearn)\n",
    "rmse_sklearn = np.sqrt(mse_sklearn)\n",
    "r2_sklearn = r2_score(y, y_pred_sklearn)\n",
    "\n",
    "# Print evaluation metrics for scikit-learn model\n",
    "print(\"Scikit-learn Model:\")\n",
    "print(\"Mean Squared Error:\", mse_sklearn)\n",
    "print(\"Mean Absolute Error:\", mae_sklearn)\n",
    "print(\"R-squared:\", r2_sklearn)\n",
    "print(\"Root Mean Squared Error:\", rmse_sklearn)\n",
    "\n"
   ]
  },
  {
   "cell_type": "code",
   "execution_count": 42,
   "metadata": {},
   "outputs": [
    {
     "name": "stdout",
     "output_type": "stream",
     "text": [
      "w using gradient descent:  [[13.23947579  6.13243433  2.3922683   7.74681094]]\n"
     ]
    }
   ],
   "source": [
    "def gradientDescent(X_test, Y_test):\n",
    "        global w\n",
    "        x = np.array([X_test[col] for col in X_test.columns])\n",
    "        xt = x.T\n",
    "        w = np.zeros((1, len(X_test.columns)))\n",
    "        for i in range(100000):\n",
    "            gradient = (w @ x - np.array([Y_test])) @ xt\n",
    "            w = (w - 0.00005*gradient)\n",
    "        return w\n",
    "gradientDescent(input_df,df4['y'])\n",
    "print(\"w using gradient descent: \", gradientDescent(input_df,df4['y']))"
   ]
  },
  {
   "cell_type": "markdown",
   "metadata": {},
   "source": [
    "DATASET 3"
   ]
  },
  {
   "cell_type": "code",
   "execution_count": 43,
   "metadata": {},
   "outputs": [
    {
     "name": "stdout",
     "output_type": "stream",
     "text": [
      "w:  [[1.17706208]\n",
      " [0.09419021]]\n",
      "Mean Square Error :  0.16173044143088555\n",
      "Mean Absolute Error :  0.29467793301310385\n",
      "R_Square Value :  0.3136973226728078\n",
      "Root Mean Sq Error:  0.40215723471160575\n"
     ]
    }
   ],
   "source": [
    "import pandas as pd\n",
    "import numpy as np\n",
    "\n",
    "df3 = pd.read_csv(\"Data3.csv\")\n",
    "# Insert a column of ones as x0\n",
    "df3.insert(1, 'x0', 1)\n",
    "input_columns = ['x0', 'x']\n",
    "input_df = df3[input_columns]\n",
    "\n",
    "\n",
    "def linear(input, output):\n",
    "\n",
    "    input_df = input.copy()\n",
    "    df3['z'] = output\n",
    "\n",
    "    # Creating a NumPy array 'x' containing the transpose of the input features\n",
    "    X = np.array([input_df[feature] for feature in input_columns])\n",
    "    X_transpose = X.T\n",
    "\n",
    "    # Computing the product of x and its transpose\n",
    "    productof_X_X_transpose = np.dot(X, X_transpose)\n",
    "\n",
    "    # Computing the inverse of x_xt\n",
    "    inverseof_X_X_transpose = np.linalg.inv(productof_X_X_transpose)\n",
    "\n",
    "    # Computing the product of x and the target variable 'y'\n",
    "    sum_xy = np.dot(X, np.array([df3['z']]).T)\n",
    "\n",
    "    # Computing the weight vector 'w'\n",
    "    w = np.dot(inverseof_X_X_transpose, sum_xy)\n",
    "    print(\"w: \",w)\n",
    "    y_predicted = X_transpose @ w\n",
    "    return y_predicted\n",
    "y_predicted = linear(input_df, df3['z'])\n",
    "\n",
    "def calculate_error(Y_predicted, Y_actual):\n",
    "\n",
    "    Y_actual = np.array([Y_actual]).T\n",
    "    mse = (((Y_actual - Y_predicted)**2)/len(Y_actual)).sum()\n",
    "    mae = np.mean(np.abs(Y_actual - Y_predicted))\n",
    "    rmse = np.sqrt(mse)\n",
    "\n",
    "    rss = ((Y_actual - Y_predicted)**2).sum()\n",
    "    tss = ((Y_actual - Y_actual.sum()/len(Y_actual))**2).sum()\n",
    "    r_square = (1 - rss/tss)\n",
    "    \n",
    "    print(\"Mean Square Error : \", mse)\n",
    "    print(\"Mean Absolute Error : \", mae)\n",
    "    print(\"R_Square Value : \", r_square)\n",
    "    print(\"Root Mean Sq Error: \", rmse)\n",
    "\n",
    "calculate_error(y_predicted,df3['z'])"
   ]
  },
  {
   "cell_type": "code",
   "execution_count": 44,
   "metadata": {},
   "outputs": [
    {
     "data": {
      "image/png": "[encoded data removed]",
      "text/plain": [
       "<Figure size 640x480 with 1 Axes>"
      ]
     },
     "metadata": {},
     "output_type": "display_data"
    }
   ],
   "source": [
    "import matplotlib.pyplot as plt\n",
    "# from sklearn.linear_model import LinearRegression\n",
    "\n",
    "# Load the dataset\n",
    "df3 = pd.read_csv(\"Data3.csv\")\n",
    "\n",
    "# Prepare the data\n",
    "X = df3[['x']]\n",
    "y = df3['z']\n",
    "plt.scatter(X, y, color='blue', label='Actual data')\n",
    "plt.plot(X, y_predicted, color='red', label='Linear regression line')\n",
    "plt.xlabel('x')\n",
    "plt.ylabel('z')\n",
    "plt.title('Linear Regression for Data3')\n",
    "plt.legend()\n",
    "plt.show()\n"
   ]
  },
  {
   "cell_type": "code",
   "execution_count": 45,
   "metadata": {},
   "outputs": [
    {
     "name": "stdout",
     "output_type": "stream",
     "text": [
      "Scikit-learn Model:\n",
      "Mean Squared Error: 0.16173044143088552\n",
      "Mean Absolute Error: 0.29467793301310374\n",
      "R-squared: 0.3136973226728079\n",
      "Root Mean Squared Error: 0.4021572347116057\n"
     ]
    }
   ],
   "source": [
    "\n",
    "from sklearn.linear_model import LinearRegression\n",
    "from sklearn.metrics import mean_squared_error, mean_absolute_error, r2_score\n",
    "# Load the data\n",
    "df3 = pd.read_csv(\"Data3.csv\")\n",
    "# Insert a column of ones as x0\n",
    "df3.insert(1, 'x0', 1)\n",
    "# Prepare the input and output data\n",
    "input_columns = ['x0', 'x']\n",
    "X = df3[input_columns].values\n",
    "y = df3['z'].values\n",
    "# Train a linear regression model using scikit-learn\n",
    "model_sklearn = LinearRegression()\n",
    "model_sklearn.fit(X, y)\n",
    "# Predict using scikit-learn model\n",
    "y_pred_sklearn = model_sklearn.predict(X)\n",
    "\n",
    "# Calculate evaluation metrics using scikit-learn model\n",
    "mse_sklearn = mean_squared_error(y, y_pred_sklearn)\n",
    "mae_sklearn = mean_absolute_error(y, y_pred_sklearn)\n",
    "rmse_sklearn = np.sqrt(mse_sklearn)\n",
    "r2_sklearn = r2_score(y, y_pred_sklearn)\n",
    "\n",
    "# Print evaluation metrics for scikit-learn model\n",
    "print(\"Scikit-learn Model:\")\n",
    "print(\"Mean Squared Error:\", mse_sklearn)\n",
    "print(\"Mean Absolute Error:\", mae_sklearn)\n",
    "print(\"R-squared:\", r2_sklearn)\n",
    "print(\"Root Mean Squared Error:\", rmse_sklearn)\n",
    "\n"
   ]
  },
  {
   "cell_type": "code",
   "execution_count": 46,
   "metadata": {},
   "outputs": [
    {
     "name": "stdout",
     "output_type": "stream",
     "text": [
      "w using gradient descent:  [[1.17706208 0.09419021]]\n"
     ]
    }
   ],
   "source": [
    "def gradientDescent(X_test, Y_test):\n",
    "        global w\n",
    "        x = np.array([X_test[i] for i in X_test.columns])\n",
    "        xt = x.T\n",
    "        w = np.zeros((1, len(X_test.columns)))\n",
    "        for i in range(100000):\n",
    "            gradient = (w @ x - np.array([Y_test])) @ xt\n",
    "            w = (w - 0.00005*gradient)\n",
    "        return w\n",
    "gradientDescent(input_df,df3['z'])\n",
    "print(\"w using gradient descent: \", gradientDescent(input_df,df3['z']))"
   ]
  },
  {
   "cell_type": "markdown",
   "metadata": {},
   "source": [
    "DATASET 2"
   ]
  },
  {
   "cell_type": "code",
   "execution_count": 47,
   "metadata": {},
   "outputs": [
    {
     "name": "stdout",
     "output_type": "stream",
     "text": [
      "w:  [[3.68212267]\n",
      " [0.97299745]]\n",
      "Mean Square Error :  0.07643342704351964\n",
      "Mean Absolute Error :  0.23498835289025644\n",
      "R_Square Value :  0.9904038522690993\n",
      "Root Mean Sq Error:  0.27646596000867746\n"
     ]
    }
   ],
   "source": [
    "import pandas as pd\n",
    "import numpy as np\n",
    "\n",
    "df2 = pd.read_csv(\"Data2.csv\")\n",
    "# Insert a column of ones as x0\n",
    "df2[\"x\"] = df2[\"x\"]\n",
    "df2.insert(1, 'x0', 1)\n",
    "df2[\"y\"] = np.log((df2[\"y\"]))\n",
    "input_columns = ['x0', 'x']\n",
    "input_df = df2[input_columns]\n",
    "\n",
    "\n",
    "def linear(input, output):\n",
    "\n",
    "    input_df = input.copy()\n",
    "    df2['y'] = output\n",
    "\n",
    "    # NumPy array 'x' containing the transpose of the input features\n",
    "    X = np.array([input_df[feature] for feature in input_columns])\n",
    "    X_transpose = X.T\n",
    "\n",
    "    # the product of x and its transpose\n",
    "    productof_X_X_transpose = np.dot(X, X_transpose)\n",
    "\n",
    "    # the inverse of x_xt\n",
    "    inverseof_X_X_transpose = np.linalg.inv(productof_X_X_transpose)\n",
    "\n",
    "    # the product of x and the target variable 'y'\n",
    "    sum_xy = np.dot(X, np.array([df2['y']]).T)\n",
    "\n",
    "    # weight vector 'w'\n",
    "    w = np.dot(inverseof_X_X_transpose, sum_xy)\n",
    "    print('w: ',w)\n",
    "    y_predicted = X_transpose @ w\n",
    "    return y_predicted\n",
    "\n",
    "y_predicted = linear(input_df, df2['y'])\n",
    "df2[\"y_predicted\"] = y_predicted\n",
    "\n",
    "def calculate_error(Y_predicted, Y_actual):\n",
    "\n",
    "    Y_actual = np.array([Y_actual]).T\n",
    "    mse = (((Y_actual - Y_predicted)**2)/len(Y_actual)).sum()\n",
    "    mae = np.mean(np.abs(Y_actual - Y_predicted))\n",
    "    rmse = np.sqrt(mse)\n",
    "\n",
    "    rss = ((Y_actual - Y_predicted)**2).sum()\n",
    "    tss = ((Y_actual - Y_actual.sum()/len(Y_actual))**2).sum()\n",
    "    r_square = (1 - (rss/tss))\n",
    "\n",
    "\n",
    "    print(\"Mean Square Error : \", mse)\n",
    "    print(\"Mean Absolute Error : \", mae)\n",
    "    print(\"R_Square Value : \", r_square)\n",
    "    print(\"Root Mean Sq Error: \", rmse)\n",
    "\n",
    "calculate_error(y_predicted,df2['y'])"
   ]
  },
  {
   "cell_type": "code",
   "execution_count": 48,
   "metadata": {},
   "outputs": [
    {
     "data": {
      "text/html": [
       "<div>\n",
       "<style scoped>\n",
       "    .dataframe tbody tr th:only-of-type {\n",
       "        vertical-align: middle;\n",
       "    }\n",
       "\n",
       "    .dataframe tbody tr th {\n",
       "        vertical-align: top;\n",
       "    }\n",
       "\n",
       "    .dataframe thead th {\n",
       "        text-align: right;\n",
       "    }\n",
       "</style>\n",
       "<table border=\"1\" class=\"dataframe\">\n",
       "  <thead>\n",
       "    <tr style=\"text-align: right;\">\n",
       "      <th></th>\n",
       "      <th>x</th>\n",
       "      <th>x0</th>\n",
       "      <th>y</th>\n",
       "      <th>y_predicted</th>\n",
       "    </tr>\n",
       "  </thead>\n",
       "  <tbody>\n",
       "    <tr>\n",
       "      <th>0</th>\n",
       "      <td>0.1</td>\n",
       "      <td>1</td>\n",
       "      <td>4.054382</td>\n",
       "      <td>3.779422</td>\n",
       "    </tr>\n",
       "    <tr>\n",
       "      <th>1</th>\n",
       "      <td>0.2</td>\n",
       "      <td>1</td>\n",
       "      <td>3.858806</td>\n",
       "      <td>3.876722</td>\n",
       "    </tr>\n",
       "    <tr>\n",
       "      <th>2</th>\n",
       "      <td>0.3</td>\n",
       "      <td>1</td>\n",
       "      <td>4.240881</td>\n",
       "      <td>3.974022</td>\n",
       "    </tr>\n",
       "    <tr>\n",
       "      <th>3</th>\n",
       "      <td>0.4</td>\n",
       "      <td>1</td>\n",
       "      <td>3.625696</td>\n",
       "      <td>4.071322</td>\n",
       "    </tr>\n",
       "    <tr>\n",
       "      <th>4</th>\n",
       "      <td>0.5</td>\n",
       "      <td>1</td>\n",
       "      <td>4.364459</td>\n",
       "      <td>4.168621</td>\n",
       "    </tr>\n",
       "    <tr>\n",
       "      <th>...</th>\n",
       "      <td>...</td>\n",
       "      <td>...</td>\n",
       "      <td>...</td>\n",
       "      <td>...</td>\n",
       "    </tr>\n",
       "    <tr>\n",
       "      <th>95</th>\n",
       "      <td>9.6</td>\n",
       "      <td>1</td>\n",
       "      <td>12.803830</td>\n",
       "      <td>13.022898</td>\n",
       "    </tr>\n",
       "    <tr>\n",
       "      <th>96</th>\n",
       "      <td>9.7</td>\n",
       "      <td>1</td>\n",
       "      <td>13.689868</td>\n",
       "      <td>13.120198</td>\n",
       "    </tr>\n",
       "    <tr>\n",
       "      <th>97</th>\n",
       "      <td>9.8</td>\n",
       "      <td>1</td>\n",
       "      <td>13.867683</td>\n",
       "      <td>13.217498</td>\n",
       "    </tr>\n",
       "    <tr>\n",
       "      <th>98</th>\n",
       "      <td>9.9</td>\n",
       "      <td>1</td>\n",
       "      <td>13.017678</td>\n",
       "      <td>13.314797</td>\n",
       "    </tr>\n",
       "    <tr>\n",
       "      <th>99</th>\n",
       "      <td>10.0</td>\n",
       "      <td>1</td>\n",
       "      <td>14.086418</td>\n",
       "      <td>13.412097</td>\n",
       "    </tr>\n",
       "  </tbody>\n",
       "</table>\n",
       "<p>100 rows × 4 columns</p>\n",
       "</div>"
      ],
      "text/plain": [
       "       x  x0          y  y_predicted\n",
       "0    0.1   1   4.054382     3.779422\n",
       "1    0.2   1   3.858806     3.876722\n",
       "2    0.3   1   4.240881     3.974022\n",
       "3    0.4   1   3.625696     4.071322\n",
       "4    0.5   1   4.364459     4.168621\n",
       "..   ...  ..        ...          ...\n",
       "95   9.6   1  12.803830    13.022898\n",
       "96   9.7   1  13.689868    13.120198\n",
       "97   9.8   1  13.867683    13.217498\n",
       "98   9.9   1  13.017678    13.314797\n",
       "99  10.0   1  14.086418    13.412097\n",
       "\n",
       "[100 rows x 4 columns]"
      ]
     },
     "execution_count": 48,
     "metadata": {},
     "output_type": "execute_result"
    }
   ],
   "source": [
    "df2"
   ]
  },
  {
   "cell_type": "code",
   "execution_count": 49,
   "metadata": {},
   "outputs": [
    {
     "data": {
      "image/png": "[encoded data removed]",
      "text/plain": [
       "<Figure size 640x480 with 1 Axes>"
      ]
     },
     "metadata": {},
     "output_type": "display_data"
    }
   ],
   "source": [
    "import matplotlib.pyplot as plt\n",
    "X = df2[['x']]\n",
    "y = df2['y']\n",
    "y_predicted1 = df2[[\"y_predicted\"]]\n",
    "plt.scatter(X, y, color='blue', label='Actual data')\n",
    "plt.plot(X, y_predicted1, color='red', label='Linear regression line')\n",
    "plt.xlabel('x')\n",
    "plt.ylabel('y')\n",
    "plt.title('Linear Regression for Data2')\n",
    "plt.legend()\n",
    "plt.show()"
   ]
  },
  {
   "cell_type": "code",
   "execution_count": 50,
   "metadata": {},
   "outputs": [
    {
     "name": "stdout",
     "output_type": "stream",
     "text": [
      "Scikit-learn Model:\n",
      "Mean Squared Error: 0.07643342704351967\n",
      "Mean Absolute Error: 0.2349883528902572\n",
      "R-squared: 0.9904038522690993\n",
      "Root Mean Squared Error: 0.2764659600086775\n"
     ]
    }
   ],
   "source": [
    "from sklearn.linear_model import LinearRegression\n",
    "from sklearn.metrics import mean_squared_error, mean_absolute_error, r2_score\n",
    "df2 = pd.read_csv(\"Data2.csv\")\n",
    "# Train a linear regression model using scikit-learn\n",
    "X = input_df[['x']]\n",
    "df2[\"y\"] = np.log(df2[\"y\"])\n",
    "Y = df2['y']\n",
    "model = LinearRegression()\n",
    "model.fit(X, Y)\n",
    "\n",
    "# Make predictions\n",
    "y_pred = model.predict(X)\n",
    "\n",
    "# Calculate error metrics\n",
    "mse_sklearn = mean_squared_error(Y, y_pred)\n",
    "mae_sklearn = mean_absolute_error(Y, y_pred)\n",
    "rmse_sklearn = np.sqrt(mse_sklearn)\n",
    "r2_sklearn = r2_score(Y, y_pred)\n",
    "\n",
    "print(\"Scikit-learn Model:\")\n",
    "print(\"Mean Squared Error:\", mse_sklearn)\n",
    "print(\"Mean Absolute Error:\", mae_sklearn)\n",
    "print(\"R-squared:\", r2_sklearn)\n",
    "print(\"Root Mean Squared Error:\", rmse_sklearn)\n",
    "\n"
   ]
  },
  {
   "cell_type": "code",
   "execution_count": 51,
   "metadata": {},
   "outputs": [
    {
     "name": "stdout",
     "output_type": "stream",
     "text": [
      "w using gradient descent:  [[3.68212267 0.97299745]]\n"
     ]
    }
   ],
   "source": [
    "def gradientDescent(X_test, Y_test):\n",
    "        w =0\n",
    "        x = np.array([X_test[i] for i in X_test.columns])\n",
    "        xt = x.T\n",
    "        w = np.zeros((1, len(input_df.columns)))\n",
    "        for i in range(100000):\n",
    "            gradient = (w @ x - np.array([Y_test])) @ xt\n",
    "            w = (w - 0.00005*gradient)\n",
    "        return w\n",
    "gradientDescent(input_df,df2['y'])\n",
    "\n",
    "print(\"w using gradient descent: \", gradientDescent(input_df,df2['y']))"
   ]
  },
  {
   "cell_type": "markdown",
   "metadata": {},
   "source": [
    "DATASET 1"
   ]
  },
  {
   "cell_type": "code",
   "execution_count": 52,
   "metadata": {},
   "outputs": [
    {
     "name": "stdout",
     "output_type": "stream",
     "text": [
      "w: [[5.68078713]\n",
      " [2.38406007]]\n",
      "Mean Square Error :  2.078525401777326\n",
      "Mean Absolute Error :  1.280555978429146\n",
      "R_Square Value :  0.9579571905586358\n",
      "Root Mean Sq Error:  1.4417091945941547\n"
     ]
    }
   ],
   "source": [
    "\n",
    "import pandas as pd\n",
    "import numpy as np\n",
    "\n",
    "df1 = pd.read_csv(\"Data1.csv\")\n",
    "# Insert a column of ones as x0\n",
    "df1.insert(1, 'x0', 1)\n",
    "input_columns = ['x0', 'x']\n",
    "input_df = df1[input_columns]\n",
    "\n",
    "def linear(input, output):\n",
    "\n",
    "    input_df = input.copy()\n",
    "    df1['y'] = output\n",
    "\n",
    "    # NumPy array 'x' containing the transpose of the input features\n",
    "    X = np.array([input_df[feature] for feature in input_columns])\n",
    "    X_transpose = X.T\n",
    "\n",
    "    #product of x and its transpose\n",
    "    productof_X_X_transpose = np.dot(X, X_transpose)\n",
    "\n",
    "    # inverse of x_xt\n",
    "    inverseof_X_X_transpose = np.linalg.inv(productof_X_X_transpose)\n",
    "\n",
    "    # product of x and the target variable 'y'\n",
    "    sum_xy = np.dot(X, np.array([df1['y']]).T)\n",
    "\n",
    "    #weight vector 'w'\n",
    "    w = np.dot(inverseof_X_X_transpose, sum_xy)\n",
    "    print('w:',w)\n",
    "    y_predicted = X_transpose @ w\n",
    "    return y_predicted\n",
    "y_predicted = linear(input_df, df1['y'])\n",
    "\n",
    "def calculate_error(Y_predicted, Y_actual):\n",
    "\n",
    "    Y_actual = np.array([Y_actual]).T\n",
    "    mse = (((Y_actual - Y_predicted)**2)/len(Y_actual)).sum()\n",
    "    mae = np.mean(np.abs(Y_actual - Y_predicted))\n",
    "    rmse = np.sqrt(mse)\n",
    "\n",
    "    rss = ((Y_actual - Y_predicted)**2).sum()\n",
    "    tss = ((Y_actual - Y_actual.sum()/len(Y_actual))**2).sum()\n",
    "    r_square = (1 - rss/tss)\n",
    "\n",
    "\n",
    "    print(\"Mean Square Error : \", mse)\n",
    "    print(\"Mean Absolute Error : \", mae)\n",
    "    print(\"R_Square Value : \", r_square)\n",
    "    print(\"Root Mean Sq Error: \", rmse)\n",
    "\n",
    "\n",
    "calculate_error(y_predicted,df1['y'])"
   ]
  },
  {
   "cell_type": "code",
   "execution_count": 53,
   "metadata": {},
   "outputs": [
    {
     "data": {
      "image/png": "[encoded data removed]",
      "text/plain": [
       "<Figure size 640x480 with 1 Axes>"
      ]
     },
     "metadata": {},
     "output_type": "display_data"
    }
   ],
   "source": [
    "import matplotlib.pyplot as plt\n",
    "X = df1[['x']]\n",
    "y = df1['y']\n",
    "plt.scatter(X, y, color='blue', label='Actual data')\n",
    "plt.plot(X, y_predicted, color='red', label='Linear regression line')\n",
    "plt.xlabel('x')\n",
    "plt.ylabel('y')\n",
    "plt.title('Linear Regression for Data1')\n",
    "plt.legend()\n",
    "plt.show()"
   ]
  },
  {
   "cell_type": "code",
   "execution_count": 54,
   "metadata": {},
   "outputs": [
    {
     "name": "stdout",
     "output_type": "stream",
     "text": [
      "Scikit-learn Model:\n",
      "Mean Squared Error: 2.078525401777328\n",
      "Mean Absolute Error: 1.2805559784291471\n",
      "R-squared: 0.9579571905586357\n",
      "Root Mean Squared Error: 1.4417091945941551\n"
     ]
    }
   ],
   "source": [
    "\n",
    "from sklearn.linear_model import LinearRegression\n",
    "from sklearn.metrics import mean_squared_error, mean_absolute_error, r2_score\n",
    "X = df1[input_columns].values\n",
    "y = df1['y'].values\n",
    "\n",
    "# Train a linear regression model using scikit-learn\n",
    "model_sklearn = LinearRegression()\n",
    "model_sklearn.fit(X, y)\n",
    "\n",
    "# Predict using scikit-learn model\n",
    "y_pred_sklearn = model_sklearn.predict(X)\n",
    "\n",
    "# Calculate evaluation metrics using scikit-learn model\n",
    "mse_sklearn = mean_squared_error(y, y_pred_sklearn)\n",
    "mae_sklearn = mean_absolute_error(y, y_pred_sklearn)\n",
    "rmse_sklearn = np.sqrt(mse_sklearn)\n",
    "r2_sklearn = r2_score(y, y_pred_sklearn)\n",
    "\n",
    "# Print evaluation metrics for scikit-learn model\n",
    "print(\"Scikit-learn Model:\")\n",
    "print(\"Mean Squared Error:\", mse_sklearn)\n",
    "print(\"Mean Absolute Error:\", mae_sklearn)\n",
    "print(\"R-squared:\", r2_sklearn)\n",
    "print(\"Root Mean Squared Error:\", rmse_sklearn)"
   ]
  },
  {
   "cell_type": "code",
   "execution_count": 55,
   "metadata": {},
   "outputs": [
    {
     "name": "stdout",
     "output_type": "stream",
     "text": [
      "w using gradient descent:  [[5.68078713 2.38406007]]\n"
     ]
    }
   ],
   "source": [
    "def gradient_des(X_test, Y_test):\n",
    "        global w\n",
    "        x = np.array([X_test[i] for i in X_test.columns])\n",
    "        xtrans = x.T\n",
    "        w = np.zeros((1, len(X_test.columns)))\n",
    "        for i in range(100000):\n",
    "            gradient = (w @ x - np.array([Y_test])) @ xtrans\n",
    "            w = (w - 0.00005*gradient)\n",
    "        return w\n",
    "gradient_des(input_df,df1['y'])\n",
    "print(\"w using gradient descent: \", gradient_des(input_df, df1['y']))"
   ]
  }
 ],
 "metadata": {
  "kernelspec": {
   "display_name": "base",
   "language": "python",
   "name": "python3"
  },
  "language_info": {
   "codemirror_mode": {
    "name": "ipython",
    "version": 3
   },
   "file_extension": ".py",
   "mimetype": "text/x-python",
   "name": "python",
   "nbconvert_exporter": "python",
   "pygments_lexer": "ipython3",
   "version": "3.9.13"
  }
 },
 "nbformat": 4,
 "nbformat_minor": 2
}
