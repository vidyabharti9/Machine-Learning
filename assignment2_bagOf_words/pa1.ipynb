{
 "cells": [
  {
   "cell_type": "markdown",
   "metadata": {
    "pycharm": {
     "name": "#%% md\n"
    }
   },
   "source": [
    "#  Assignment 1\n",
    "You are given $n$ documents (labels $\\in \\{-1,+1\\}$), each consisting of $n_i$ words from some finite vocabulary $\\mathsf{V=\\{v_1,v_2,\\dots,v_d\\}}$ with size $d$.\n",
    "We represent document $i$ by a vector \n",
    "$$\n",
    "    \\mathsf{\\mathbf{x_i} = \\begin{pmatrix} \\mathsf{x_{i1}, x_{i2},\\dots,x_{id},1 }\\end{pmatrix}}\n",
    "$$ where $x_{ij}=$ number of times that word $v_j$ appears in document $i$.\n",
    "Now let matrix $X$ of size $n$ by $d+1$ where its $i$-th row is equal to $\\mathbf{x_i}$; i.e.\n",
    "$$\n",
    "    \\mathsf{X = \\begin{pmatrix} \\mathsf{x_{ij}} \\end{pmatrix}_{i\\in[n],j\\in[d+1]}}\n",
    "$$\n",
    "also let vector $\\mathbf{y} \\in \\{-1,+1\\}^n$ be\n",
    "$$\n",
    "    \\mathbf{y}=\\begin{pmatrix} \\mathsf{y_1 \\\\\n",
    "                                   y_2 \\\\\n",
    "                                   \\dots \\\\\n",
    "                                   y_n}\n",
    "                                   \\end{pmatrix}\n",
    "$$\n",
    "wher $y_i$ is the label of document $i$.\n",
    "### Buidling $X$ and $\\mathbf{y}$\n",
    "You are given two text files\n",
    "1. `train.txt`: training set (labeled documents)\n",
    "2. `test.txt`: test set (unlabeled documents)\n",
    "\n",
    "in `train.txt`:\n",
    "- line $1$ is the number of documents in training set $n_{\\mathrm{train}}$ \n",
    "- line $2i$ contain words in document $i$ separated by space  ($i=1,2,\\dots,n_{\\mathrm{train}}$)\n",
    "- line $2i+1$ contain label for document $i$    ($i=1,2,\\dots,n_{\\mathrm{train}}$)\n",
    "\n",
    "in `test.txt`:\n",
    "- line $1$ is the number of documents in training set $n_{\\mathrm{test}}$ \n",
    "- line $i+1$ contain words in document $i$ separated by space  ($i=1,2,\\dots,n_{\\mathrm{test}}$)\n",
    "\n",
    "Now let's build $X_\\mathrm{train}$,$X_\\mathrm{test}$, and $\\mathbf{y}_{\\mathrm{train}}$ as defined above using `train.txt` and `test.txt`\n",
    "\n",
    "### IMPORTANT\n",
    "- Documents are numbered as they appear in the input file\n",
    "- let Vocabulary $V=(v_1,v_2,\\dots,v_d)$ be **sorted** list of all distinct word in the documents of **training** set."
   ]
  },
  {
   "cell_type": "code",
   "execution_count": 128,
   "metadata": {},
   "outputs": [
    {
     "name": "stdout",
     "output_type": "stream",
     "text": [
      "[['Rv', 'tgU', 'zY#tE'], ['Rv', 'tgU', 'dZJa', 'dZJa', 'tgU', 'ITZM', 'ITZM', 'ITZM'], ['tgU', 'tgU'], ['tgU', 'zY#tE', 'tgU', 'WAcqG', 'tgU', 'ITZM', 'iWgN', 'JgwBu', 'zY#tE'], ['dZJa', 'Rv', 'OnJECH', 'tgU', 'Rv', 'dZJa', 'ITZM'], ['iWgN', 'iWgN', 'iWgN', 'zY#tE', 'tgU'], ['Rv', 'Rv', 'tgU', 'ITZM', 'tgU', 'tgU', 'LnGi'], ['JgwBu', 'Rv', 'Rv'], ['iWgN', 'Rv', 'zY#tE', 'ITZM', 'LnGi'], ['JgwBu', 'iWgN', 'OnJECH', 'WAcqG', 'LnGi'], ['JgwBu', 'ITZM', 'iWgN', 'JgwBu', 'LnGi'], ['Rv', 'tgU', 'ITZM', 'tgU'], ['ITZM', 'zY#tE', 'WAcqG', 'zY#tE', 'iWgN', 'tgU', 'ITZM', 'OnJECH', 'ITZM', 'Rv'], ['ITZM', 'Rv', 'Rv', 'ITZM', 'tgU', 'dZJa', 'OnJECH', 'dZJa', 'ITZM'], ['iWgN', 'tgU', 'Rv'], ['tgU', 'JgwBu', 'tgU'], ['OnJECH', 'LnGi', 'iWgN', 'ITZM', 'tgU', 'ITZM', 'tgU'], ['OnJECH', 'tgU', 'zY#tE', 'LnGi', 'iWgN', 'iWgN', 'iWgN', 'LnGi', 'zY#tE', 'Rv'], ['tgU', 'tgU', 'Rv', 'tgU', 'Rv', 'tgU', 'iWgN', 'tgU', 'tgU'], ['tgU', 'WAcqG', 'zY#tE'], ['iWgN', 'Rv', 'iWgN', 'ITZM', 'Rv', 'iWgN'], ['Rv', 'iWgN', 'Rv', 'JgwBu', 'Rv', 'iWgN', 'iWgN', 'iWgN', 'iWgN', 'iWgN'], ['Rv', 'tgU', 'Rv', 'Rv', 'tgU', 'tgU'], ['tgU', 'ITZM', 'tgU'], ['tgU', 'zY#tE', 'JgwBu', 'tgU', 'JgwBu', 'iWgN', 'ITZM', 'tgU', 'tgU', 'dZJa'], ['Rv', 'ITZM', 'tgU', 'Rv', 'tgU', 'tgU', 'zY#tE'], ['tgU', 'ITZM', 'Rv', 'tgU', 'LnGi', 'dZJa', 'ITZM', 'LnGi', 'ITZM', 'tgU'], ['LnGi', 'Rv', 'tgU', 'tgU', 'ITZM'], ['JgwBu', 'iWgN', 'iWgN', 'LnGi', 'zY#tE', 'iWgN', 'dZJa', 'iWgN', 'tgU', 'Rv'], ['Rv', 'LnGi', 'LnGi', 'zY#tE', 'tgU', 'WAcqG'], ['LnGi', 'OnJECH', 'ITZM', 'Rv', 'Rv', 'tgU', 'Rv', 'LnGi', 'ITZM'], ['ITZM', 'tgU', 'Rv'], ['dZJa', 'tgU', 'zY#tE', 'LnGi', 'iWgN', 'OnJECH', 'ITZM', 'tgU'], ['Rv', 'Rv', 'iWgN', 'tgU', 'iWgN', 'tgU', 'OnJECH'], ['tgU', 'LnGi', 'zY#tE', 'tgU', 'LnGi'], ['zY#tE', 'tgU', 'OnJECH', 'LnGi', 'WAcqG', 'ITZM'], ['LnGi', 'Rv', 'Rv', 'WAcqG'], ['OnJECH', 'iWgN', 'tgU', 'ITZM', 'WAcqG'], ['JgwBu', 'tgU', 'Rv', 'dZJa'], ['LnGi', 'JgwBu'], ['WAcqG', 'Rv', 'zY#tE', 'tgU', 'tgU', 'tgU'], ['ITZM', 'dZJa', 'iWgN', 'zY#tE', 'Rv', 'LnGi', 'ITZM', 'ITZM', 'tgU'], ['tgU', 'tgU', 'OnJECH'], ['iWgN', 'ITZM', 'WAcqG'], ['zY#tE', 'tgU', 'Rv', 'zY#tE'], ['LnGi', 'zY#tE', 'zY#tE', 'tgU'], ['iWgN', 'tgU'], ['Rv', 'tgU', 'iWgN'], ['ITZM', 'Rv', 'JgwBu', 'zY#tE', 'WAcqG', 'WAcqG', 'iWgN', 'Rv', 'JgwBu', 'tgU'], ['LnGi', 'WAcqG', 'LnGi', 'ITZM', 'tgU', 'zY#tE', 'zY#tE', 'tgU'], ['tgU', 'Rv', 'ITZM', 'Rv', 'LnGi', 'JgwBu', 'ITZM', 'tgU', 'ITZM', 'tgU'], ['JgwBu', 'ITZM', 'ITZM', 'tgU', 'LnGi', 'Rv'], ['dZJa', 'tgU', 'tgU', 'OnJECH', 'JgwBu', 'ITZM', 'Rv', 'OnJECH', 'Rv', 'tgU'], ['tgU', 'OnJECH', 'Rv', 'LnGi', 'tgU'], ['ITZM', 'tgU', 'tgU', 'tgU', 'OnJECH'], ['Rv', 'iWgN', 'OnJECH', 'Rv', 'LnGi', 'Rv', 'ITZM', 'tgU'], ['ITZM', 'dZJa', 'Rv', 'iWgN', 'zY#tE', 'iWgN'], ['ITZM', 'Rv', 'WAcqG', 'dZJa', 'tgU', 'OnJECH', 'JgwBu', 'Rv', 'zY#tE'], ['LnGi', 'tgU', 'dZJa', 'Rv', 'tgU', 'Rv', 'tgU', 'Rv', 'tgU'], ['tgU', 'tgU', 'Rv', 'tgU', 'iWgN', 'LnGi', 'JgwBu'], ['tgU', 'zY#tE', 'Rv'], ['iWgN', 'tgU', 'Rv', 'zY#tE', 'iWgN', 'tgU', 'tgU'], ['tgU', 'JgwBu', 'iWgN'], ['Rv', 'ITZM', 'Rv', 'OnJECH', 'tgU', 'ITZM', 'zY#tE', 'Rv', 'Rv'], ['ITZM', 'LnGi', 'Rv', 'tgU', 'ITZM', 'zY#tE', 'tgU'], ['Rv', 'Rv', 'LnGi', 'iWgN', 'ITZM'], ['ITZM', 'Rv', 'ITZM', 'OnJECH', 'LnGi'], ['OnJECH', 'JgwBu'], ['ITZM', 'ITZM', 'iWgN', 'zY#tE', 'zY#tE', 'Rv'], ['JgwBu', 'iWgN', 'WAcqG'], ['zY#tE', 'ITZM', 'tgU', 'OnJECH', 'LnGi'], ['iWgN', 'LnGi', 'iWgN', 'WAcqG', 'Rv', 'dZJa', 'OnJECH'], ['tgU', 'Rv', 'Rv', 'tgU'], ['tgU', 'ITZM', 'LnGi', 'Rv', 'tgU', 'zY#tE', 'zY#tE'], ['tgU', 'Rv', 'zY#tE', 'OnJECH', 'ITZM', 'zY#tE', 'LnGi', 'tgU'], ['ITZM', 'tgU'], ['tgU', 'OnJECH', 'Rv'], ['Rv', 'tgU', 'LnGi', 'LnGi'], ['Rv', 'Rv', 'tgU', 'LnGi', 'WAcqG'], ['zY#tE', 'iWgN'], ['tgU', 'zY#tE', 'tgU', 'tgU', 'zY#tE', 'zY#tE', 'Rv', 'ITZM', 'Rv', 'JgwBu'], ['Rv', 'JgwBu', 'iWgN'], ['Rv', 'tgU'], ['zY#tE', 'dZJa', 'OnJECH'], ['iWgN', 'tgU', 'Rv', 'dZJa', 'OnJECH'], ['Rv', 'Rv', 'LnGi'], ['WAcqG', 'Rv', 'Rv', 'dZJa', 'tgU', 'Rv', 'tgU', 'tgU'], ['ITZM', 'OnJECH', 'Rv'], ['ITZM', 'Rv', 'tgU', 'tgU', 'iWgN', 'tgU', 'LnGi'], ['Rv', 'tgU', 'tgU'], ['dZJa', 'OnJECH'], ['ITZM', 'tgU'], ['ITZM', 'Rv', 'dZJa', 'tgU', 'ITZM'], ['Rv', 'ITZM', 'Rv', 'iWgN'], ['OnJECH', 'LnGi', 'ITZM'], ['iWgN', 'tgU', 'tgU', 'zY#tE', 'ITZM', 'iWgN', 'iWgN', 'iWgN', 'zY#tE'], ['ITZM', 'tgU', 'tgU', 'WAcqG', 'Rv'], ['tgU', 'ITZM'], ['Rv', 'dZJa'], ['tgU', 'ITZM', 'LnGi', 'Rv', 'iWgN', 'tgU', 'iWgN', 'JgwBu', 'zY#tE', 'tgU'], ['WAcqG', 'tgU', 'dZJa', 'tgU', 'tgU', 'zY#tE', 'tgU', 'ITZM'], ['LnGi', 'Rv', 'zY#tE'], ['Rv', 'JgwBu', 'tgU', 'Rv', 'tgU', 'JgwBu'], ['iWgN', 'Rv', 'ITZM'], ['tgU', 'LnGi', 'ITZM', 'ITZM', 'ITZM'], ['tgU', 'tgU', 'tgU'], ['tgU', 'dZJa', 'Rv', 'zY#tE', 'Rv', 'WAcqG'], ['Rv', 'zY#tE', 'LnGi', 'Rv', 'tgU', 'ITZM', 'iWgN'], ['WAcqG', 'OnJECH', 'LnGi', 'WAcqG', 'Rv', 'Rv', 'Rv', 'zY#tE'], ['JgwBu', 'ITZM', 'Rv', 'iWgN'], ['iWgN', 'Rv'], ['zY#tE', 'Rv', 'tgU', 'iWgN', 'tgU', 'zY#tE', 'tgU', 'tgU', 'tgU', 'Rv'], ['JgwBu', 'ITZM', 'LnGi', 'Rv', 'dZJa', 'tgU', 'zY#tE', 'ITZM', 'ITZM'], ['iWgN', 'tgU'], ['tgU', 'zY#tE', 'zY#tE'], ['Rv', 'Rv', 'JgwBu', 'tgU', 'iWgN', 'tgU', 'ITZM', 'WAcqG'], ['iWgN', 'LnGi', 'JgwBu', 'tgU', 'ITZM'], ['WAcqG', 'ITZM', 'Rv', 'zY#tE', 'Rv', 'tgU'], ['ITZM', 'OnJECH', 'Rv', 'Rv', 'tgU', 'Rv', 'tgU'], ['iWgN', 'Rv', 'Rv', 'iWgN', 'ITZM', 'tgU', 'iWgN', 'tgU', 'dZJa'], ['ITZM', 'Rv', 'Rv', 'Rv'], ['ITZM', 'tgU', 'ITZM', 'iWgN', 'tgU'], ['iWgN', 'zY#tE'], ['ITZM', 'tgU', 'ITZM', 'dZJa'], ['Rv', 'dZJa', 'Rv', 'LnGi'], ['ITZM', 'WAcqG', 'tgU', 'Rv', 'LnGi', 'ITZM', 'ITZM'], ['LnGi', 'ITZM', 'OnJECH', 'ITZM', 'ITZM', 'tgU', 'JgwBu', 'dZJa', 'tgU', 'Rv'], ['JgwBu', 'LnGi', 'Rv', 'dZJa', 'Rv', 'tgU'], ['tgU', 'tgU', 'ITZM'], ['tgU', 'Rv', 'tgU', 'tgU', 'zY#tE', 'tgU', 'Rv', 'WAcqG', 'Rv'], ['Rv', 'OnJECH', 'WAcqG', 'tgU'], ['OnJECH', 'dZJa'], ['ITZM', 'JgwBu', 'ITZM', 'zY#tE', 'ITZM', 'LnGi', 'iWgN', 'ITZM', 'tgU'], ['tgU', 'zY#tE', 'WAcqG', 'Rv', 'dZJa', 'tgU', 'dZJa', 'OnJECH'], ['tgU', 'Rv', 'ITZM', 'LnGi', 'Rv', 'tgU', 'Rv', 'Rv', 'Rv', 'tgU'], ['zY#tE', 'zY#tE', 'Rv', 'zY#tE', 'tgU', 'tgU'], ['LnGi', 'LnGi', 'JgwBu', 'tgU', 'Rv', 'Rv', 'WAcqG'], ['tgU', 'tgU', 'JgwBu', 'Rv', 'tgU', 'tgU', 'ITZM', 'JgwBu'], ['Rv', 'ITZM', 'Rv', 'ITZM', 'dZJa', 'LnGi'], ['iWgN', 'ITZM', 'zY#tE', 'tgU'], ['Rv', 'LnGi', 'OnJECH', 'WAcqG', 'ITZM', 'iWgN', 'Rv', 'Rv', 'tgU', 'tgU'], ['zY#tE', 'Rv'], ['tgU', 'tgU', 'Rv', 'iWgN', 'OnJECH', 'tgU', 'ITZM', 'LnGi', 'LnGi'], ['Rv', 'tgU', 'dZJa'], ['WAcqG', 'ITZM', 'Rv', 'ITZM', 'LnGi', 'tgU', 'LnGi'], ['tgU', 'tgU'], ['JgwBu', 'iWgN', 'ITZM', 'tgU', 'iWgN', 'tgU', 'WAcqG', 'tgU', 'ITZM', 'Rv'], ['tgU', 'Rv', 'LnGi', 'ITZM', 'tgU', 'WAcqG'], ['tgU', 'tgU', 'Rv', 'Rv'], ['WAcqG', 'tgU', 'tgU', 'ITZM', 'tgU'], ['tgU', 'tgU', 'LnGi', 'WAcqG', 'JgwBu', 'Rv', 'zY#tE', 'tgU', 'OnJECH'], ['Rv', 'iWgN', 'zY#tE', 'JgwBu', 'OnJECH', 'tgU', 'WAcqG'], ['tgU', 'LnGi', 'dZJa', 'Rv', 'Rv', 'Rv'], ['Rv', 'Rv', 'tgU', 'tgU', 'tgU', 'OnJECH', 'iWgN'], ['tgU', 'tgU', 'Rv', 'tgU'], ['tgU', 'JgwBu', 'tgU', 'Rv', 'WAcqG', 'Rv'], ['dZJa', 'iWgN', 'WAcqG', 'tgU', 'iWgN', 'Rv', 'Rv', 'tgU'], ['Rv', 'LnGi', 'ITZM', 'tgU', 'tgU', 'ITZM', 'Rv', 'LnGi'], ['ITZM', 'tgU', 'ITZM'], ['zY#tE', 'ITZM'], ['tgU', 'dZJa', 'Rv', 'Rv', 'tgU'], ['Rv', 'iWgN', 'WAcqG', 'WAcqG', 'tgU', 'dZJa', 'tgU'], ['tgU', 'ITZM', 'tgU', 'LnGi'], ['tgU', 'ITZM', 'Rv', 'ITZM', 'WAcqG'], ['tgU', 'Rv', 'JgwBu', 'Rv', 'tgU'], ['JgwBu', 'LnGi', 'ITZM', 'tgU', 'Rv', 'Rv', 'tgU', 'Rv', 'tgU'], ['tgU', 'LnGi', 'zY#tE', 'JgwBu', 'Rv', 'LnGi', 'Rv', 'WAcqG'], ['dZJa', 'tgU', 'tgU', 'LnGi', 'iWgN', 'ITZM', 'Rv', 'Rv'], ['Rv', 'WAcqG'], ['tgU', 'ITZM', 'tgU', 'tgU', 'LnGi', 'zY#tE', 'WAcqG', 'zY#tE'], ['LnGi', 'dZJa', 'Rv', 'Rv', 'iWgN', 'tgU', 'tgU', 'tgU'], ['dZJa', 'tgU'], ['WAcqG', 'tgU', 'tgU', 'LnGi'], ['tgU', 'ITZM', 'Rv', 'LnGi', 'WAcqG', 'tgU', 'ITZM', 'WAcqG', 'zY#tE'], ['LnGi', 'tgU', 'iWgN'], ['ITZM', 'WAcqG', 'tgU', 'ITZM', 'tgU', 'dZJa'], ['ITZM', 'LnGi', 'zY#tE', 'iWgN'], ['ITZM', 'OnJECH', 'Rv', 'ITZM', 'Rv', 'WAcqG', 'LnGi', 'iWgN', 'tgU'], ['LnGi', 'iWgN', 'iWgN', 'zY#tE', 'tgU', 'tgU', 'WAcqG', 'LnGi', 'zY#tE', 'JgwBu'], ['WAcqG', 'ITZM', 'zY#tE', 'zY#tE', 'tgU', 'Rv', 'OnJECH', 'OnJECH', 'JgwBu'], ['dZJa', 'JgwBu', 'Rv', 'iWgN', 'tgU', 'ITZM', 'Rv', 'iWgN', 'tgU', 'WAcqG'], ['zY#tE', 'OnJECH'], ['ITZM', 'WAcqG'], ['OnJECH', 'tgU', 'LnGi', 'Rv', 'tgU', 'tgU', 'dZJa', 'tgU', 'Rv'], ['ITZM', 'ITZM', 'WAcqG', 'ITZM', 'ITZM', 'zY#tE', 'tgU'], ['JgwBu', 'ITZM', 'zY#tE', 'OnJECH', 'LnGi', 'tgU'], ['ITZM', 'OnJECH', 'zY#tE', 'iWgN', 'dZJa', 'Rv', 'tgU', 'JgwBu', 'zY#tE'], ['tgU', 'iWgN'], ['ITZM', 'tgU', 'tgU', 'dZJa', 'Rv', 'ITZM', 'tgU', 'tgU'], ['ITZM', 'tgU', 'ITZM', 'zY#tE', 'iWgN'], ['dZJa', 'Rv', 'tgU', 'OnJECH', 'tgU', 'zY#tE', 'tgU', 'dZJa', 'ITZM', 'WAcqG'], ['Rv', 'LnGi', 'Rv'], ['Rv', 'JgwBu', 'Rv', 'OnJECH'], ['dZJa', 'ITZM'], ['tgU', 'tgU', 'dZJa', 'tgU', 'zY#tE', 'ITZM', 'iWgN', 'zY#tE'], ['zY#tE', 'iWgN', 'JgwBu', 'iWgN', 'ITZM', 'LnGi', 'zY#tE', 'Rv'], ['iWgN', 'OnJECH', 'zY#tE', 'tgU', 'Rv', 'tgU', 'ITZM'], ['Rv', 'LnGi'], ['tgU', 'ITZM', 'Rv', 'OnJECH', 'WAcqG'], ['Rv', 'tgU'], ['ITZM', 'iWgN'], ['LnGi', 'OnJECH', 'tgU', 'zY#tE', 'Rv', 'tgU', 'ITZM', 'iWgN', 'tgU', 'JgwBu'], ['Rv', 'tgU', 'ITZM'], ['ITZM', 'iWgN', 'Rv', 'tgU', 'tgU'], ['Rv', 'Rv', 'WAcqG'], ['iWgN', 'zY#tE', 'tgU', 'Rv', 'OnJECH'], ['zY#tE', 'JgwBu', 'tgU', 'tgU', 'iWgN', 'Rv'], ['LnGi', 'Rv', 'tgU', 'iWgN', 'tgU', 'tgU'], ['tgU', 'tgU', 'OnJECH', 'Rv'], ['Rv', 'dZJa', 'tgU'], ['OnJECH', 'ITZM', 'Rv', 'Rv', 'zY#tE', 'tgU', 'tgU', 'iWgN', 'Rv'], ['dZJa', 'tgU', 'ITZM', 'tgU', 'ITZM', 'tgU', 'tgU', 'ITZM'], ['iWgN', 'WAcqG', 'LnGi'], ['JgwBu', 'tgU'], ['dZJa', 'zY#tE', 'zY#tE', 'zY#tE', 'ITZM', 'zY#tE'], ['LnGi', 'Rv', 'tgU', 'LnGi', 'dZJa', 'LnGi', 'ITZM', 'ITZM', 'Rv'], ['ITZM', 'Rv', 'iWgN'], ['Rv', 'ITZM', 'ITZM', 'OnJECH', 'JgwBu', 'zY#tE'], ['JgwBu', 'tgU', 'iWgN', 'dZJa'], ['WAcqG', 'zY#tE', 'Rv', 'tgU', 'dZJa', 'Rv', 'zY#tE', 'iWgN', 'ITZM', 'Rv'], ['tgU', 'tgU', 'tgU', 'OnJECH', 'tgU', 'Rv', 'iWgN'], ['zY#tE', 'zY#tE', 'tgU'], ['Rv', 'tgU', 'iWgN', 'Rv'], ['ITZM', 'tgU', 'WAcqG', 'tgU', 'tgU', 'tgU'], ['Rv', 'tgU'], ['dZJa', 'WAcqG'], ['tgU', 'ITZM'], ['ITZM', 'Rv', 'zY#tE', 'JgwBu', 'Rv'], ['ITZM', 'Rv', 'Rv', 'zY#tE', 'tgU', 'Rv'], ['ITZM', 'tgU', 'iWgN', 'JgwBu', 'zY#tE', 'ITZM', 'tgU', 'Rv', 'Rv', 'tgU'], ['tgU', 'zY#tE', 'iWgN', 'ITZM', 'tgU', 'tgU', 'tgU'], ['ITZM', 'Rv', 'JgwBu', 'tgU', 'tgU', 'tgU', 'zY#tE'], ['tgU', 'zY#tE'], ['iWgN', 'ITZM', 'ITZM', 'Rv', 'tgU', 'tgU', 'zY#tE', 'ITZM', 'ITZM'], ['tgU', 'Rv', 'dZJa', 'zY#tE', 'Rv', 'iWgN', 'Rv', 'tgU', 'dZJa'], ['LnGi', 'OnJECH', 'OnJECH', 'dZJa', 'tgU', 'zY#tE', 'tgU', 'tgU'], ['JgwBu', 'Rv', 'Rv', 'tgU', 'Rv', 'Rv', 'Rv'], ['tgU', 'iWgN', 'ITZM', 'ITZM', 'Rv', 'tgU', 'tgU', 'tgU', 'tgU', 'OnJECH'], ['dZJa', 'dZJa', 'tgU', 'zY#tE'], ['OnJECH', 'tgU', 'iWgN', 'iWgN', 'tgU'], ['zY#tE', 'ITZM', 'JgwBu', 'tgU', 'ITZM', 'WAcqG', 'LnGi', 'OnJECH'], ['tgU', 'ITZM', 'tgU', 'Rv', 'WAcqG', 'dZJa'], ['iWgN', 'Rv'], ['ITZM', 'Rv', 'JgwBu', 'dZJa'], ['Rv', 'zY#tE', 'zY#tE', 'iWgN'], ['iWgN', 'zY#tE', 'tgU', 'tgU', 'Rv', 'Rv'], ['LnGi', 'WAcqG', 'zY#tE', 'tgU', 'ITZM', 'ITZM', 'tgU'], ['dZJa', 'LnGi', 'tgU', 'iWgN', 'ITZM', 'OnJECH', 'ITZM'], ['LnGi', 'JgwBu', 'LnGi', 'tgU', 'ITZM', 'ITZM', 'JgwBu'], ['Rv', 'Rv', 'OnJECH'], ['tgU', 'zY#tE', 'dZJa', 'zY#tE', 'Rv', 'ITZM', 'Rv'], ['Rv', 'WAcqG'], ['iWgN', 'WAcqG'], ['zY#tE', 'tgU', 'tgU', 'WAcqG', 'JgwBu', 'Rv'], ['tgU', 'OnJECH', 'ITZM', 'tgU'], ['tgU', 'iWgN', 'tgU', 'tgU'], ['WAcqG', 'tgU', 'tgU', 'OnJECH', 'iWgN', 'dZJa'], ['dZJa', 'zY#tE', 'Rv', 'zY#tE', 'tgU', 'Rv', 'tgU'], ['tgU', 'tgU', 'Rv', 'LnGi', 'tgU', 'tgU', 'ITZM', 'iWgN'], ['Rv', 'tgU', 'Rv', 'WAcqG', 'WAcqG', 'JgwBu', 'tgU', 'tgU', 'ITZM', 'Rv'], ['ITZM', 'zY#tE', 'tgU', 'zY#tE'], ['dZJa', 'tgU', 'Rv', 'Rv', 'Rv', 'iWgN'], ['Rv', 'tgU', 'zY#tE'], ['ITZM', 'LnGi', 'ITZM', 'ITZM', 'LnGi', 'Rv', 'tgU', 'LnGi', 'WAcqG'], ['tgU', 'tgU', 'tgU', 'dZJa', 'zY#tE'], ['iWgN', 'ITZM'], ['LnGi', 'Rv', 'iWgN', 'tgU', 'Rv', 'tgU'], ['tgU', 'Rv', 'zY#tE', 'iWgN'], ['tgU', 'dZJa', 'tgU', 'tgU', 'tgU', 'JgwBu', 'dZJa', 'Rv', 'tgU', 'ITZM'], ['zY#tE', 'tgU', 'ITZM'], ['WAcqG', 'tgU', 'tgU', 'tgU', 'tgU', 'Rv'], ['WAcqG', 'tgU', 'JgwBu', 'LnGi', 'WAcqG', 'Rv', 'tgU', 'iWgN'], ['Rv', 'tgU', 'tgU', 'zY#tE', 'tgU', 'Rv', 'JgwBu'], ['tgU', 'ITZM', 'Rv', 'tgU', 'zY#tE', 'iWgN'], ['tgU', 'ITZM', 'WAcqG', 'dZJa', 'Rv', 'ITZM', 'LnGi', 'Rv'], ['Rv', 'iWgN', 'tgU'], ['Rv', 'Rv', 'ITZM'], ['ITZM', 'OnJECH', 'tgU', 'iWgN', 'tgU', 'tgU', 'tgU', 'tgU', 'zY#tE', 'tgU'], ['iWgN', 'iWgN', 'ITZM', 'zY#tE', 'JgwBu', 'tgU', 'tgU', 'Rv', 'LnGi'], ['ITZM', 'tgU', 'Rv', 'tgU', 'tgU', 'JgwBu', 'tgU', 'Rv', 'Rv'], ['zY#tE', 'zY#tE', 'LnGi', 'iWgN', 'ITZM', 'iWgN', 'tgU'], ['tgU', 'Rv', 'Rv', 'Rv', 'iWgN', 'tgU', 'tgU'], ['ITZM', 'LnGi', 'ITZM'], ['LnGi', 'Rv', 'WAcqG', 'iWgN', 'tgU', 'tgU', 'zY#tE', 'iWgN', 'tgU'], ['tgU', 'Rv', 'tgU'], ['ITZM', 'ITZM', 'OnJECH', 'WAcqG', 'iWgN', 'ITZM', 'tgU', 'tgU', 'LnGi'], ['Rv', 'dZJa', 'Rv', 'tgU', 'zY#tE', 'tgU', 'ITZM', 'tgU'], ['ITZM', 'LnGi'], ['JgwBu', 'LnGi', 'dZJa', 'tgU', 'WAcqG', 'zY#tE'], ['LnGi', 'tgU', 'tgU', 'dZJa', 'Rv', 'iWgN', 'Rv'], ['dZJa', 'Rv', 'Rv', 'tgU'], ['ITZM', 'JgwBu', 'tgU', 'tgU'], ['OnJECH', 'Rv', 'tgU', 'tgU', 'iWgN', 'LnGi', 'ITZM', 'Rv'], ['tgU', 'tgU', 'tgU'], ['ITZM', 'LnGi', 'Rv'], ['LnGi', 'tgU', 'tgU'], ['WAcqG', 'zY#tE', 'JgwBu', 'tgU', 'ITZM'], ['JgwBu', 'tgU', 'ITZM', 'dZJa', 'Rv'], ['tgU', 'tgU'], ['tgU', 'tgU', 'ITZM', 'Rv', 'WAcqG', 'Rv', 'LnGi', 'Rv'], ['zY#tE', 'Rv'], ['Rv', 'ITZM', 'tgU'], ['JgwBu', 'LnGi', 'OnJECH', 'tgU', 'LnGi', 'tgU', 'tgU', 'tgU'], ['ITZM', 'LnGi', 'tgU', 'LnGi', 'OnJECH', 'JgwBu', 'LnGi', 'WAcqG', 'ITZM', 'Rv'], ['Rv', 'ITZM', 'Rv', 'ITZM', 'WAcqG', 'tgU', 'tgU', 'ITZM', 'iWgN', 'tgU'], ['LnGi', 'tgU', 'tgU', 'tgU', 'ITZM', 'ITZM'], ['LnGi', 'OnJECH', 'iWgN', 'Rv', 'tgU', 'Rv', 'JgwBu', 'Rv', 'tgU'], ['zY#tE', 'LnGi', 'tgU', 'OnJECH', 'tgU', 'JgwBu', 'iWgN', 'ITZM', 'zY#tE'], ['tgU', 'tgU', 'dZJa', 'WAcqG', 'iWgN'], ['dZJa', 'WAcqG', 'tgU', 'LnGi', 'LnGi', 'Rv', 'Rv', 'ITZM'], ['tgU', 'tgU', 'dZJa'], ['zY#tE', 'ITZM', 'tgU', 'OnJECH', 'Rv', 'LnGi', 'tgU'], ['JgwBu', 'tgU', 'iWgN', 'ITZM', 'tgU'], ['iWgN', 'tgU', 'tgU', 'dZJa', 'tgU', 'OnJECH'], ['dZJa', 'Rv', 'zY#tE', 'LnGi'], ['ITZM', 'Rv', 'WAcqG', 'ITZM', 'dZJa', 'tgU', 'tgU', 'iWgN'], ['zY#tE', 'zY#tE', 'tgU', 'iWgN', 'WAcqG'], ['ITZM', 'iWgN', 'zY#tE', 'tgU', 'Rv', 'JgwBu', 'tgU'], ['tgU', 'zY#tE', 'tgU'], ['dZJa', 'ITZM', 'WAcqG'], ['Rv', 'WAcqG'], ['Rv', 'tgU', 'tgU', 'Rv', 'iWgN', 'Rv', 'tgU', 'LnGi', 'tgU', 'zY#tE'], ['LnGi', 'LnGi', 'tgU', 'tgU', 'WAcqG', 'iWgN', 'LnGi', 'WAcqG', 'ITZM'], ['Rv', 'OnJECH', 'Rv', 'tgU', 'LnGi'], ['Rv', 'iWgN', 'zY#tE'], ['JgwBu', 'tgU', 'ITZM', 'WAcqG', 'Rv', 'LnGi', 'Rv', 'Rv', 'tgU'], ['zY#tE', 'dZJa', 'tgU', 'iWgN', 'Rv', 'LnGi', 'Rv', 'dZJa'], ['ITZM', 'JgwBu', 'iWgN', 'LnGi', 'tgU', 'Rv'], ['ITZM', 'ITZM', 'zY#tE', 'ITZM', 'JgwBu'], ['tgU', 'OnJECH'], ['iWgN', 'tgU', 'iWgN', 'zY#tE', 'tgU'], ['ITZM', 'dZJa', 'tgU', 'tgU'], ['ITZM', 'tgU', 'tgU'], ['tgU', 'WAcqG', 'Rv', 'dZJa', 'tgU'], ['tgU', 'iWgN', 'tgU', 'tgU', 'ITZM', 'WAcqG', 'OnJECH', 'OnJECH', 'Rv'], ['Rv', 'iWgN', 'tgU', 'OnJECH', 'JgwBu', 'ITZM', 'iWgN', 'LnGi'], ['ITZM', 'tgU', 'dZJa', 'ITZM', 'tgU', 'zY#tE', 'Rv'], ['ITZM', 'ITZM', 'Rv', 'tgU', 'JgwBu', 'tgU', 'ITZM', 'Rv', 'iWgN', 'ITZM'], ['iWgN', 'zY#tE', 'JgwBu', 'tgU'], ['iWgN', 'LnGi', 'ITZM'], ['ITZM', 'dZJa', 'zY#tE', 'iWgN', 'tgU', 'WAcqG', 'iWgN', 'JgwBu', 'tgU'], ['tgU', 'zY#tE', 'Rv', 'LnGi'], ['JgwBu', 'zY#tE', 'tgU', 'JgwBu', 'dZJa', 'Rv', 'JgwBu', 'JgwBu'], ['zY#tE', 'Rv', 'zY#tE', 'ITZM', 'WAcqG', 'JgwBu', 'ITZM', 'dZJa'], ['ITZM', 'tgU', 'tgU', 'LnGi', 'zY#tE', 'tgU', 'Rv', 'tgU', 'tgU', 'Rv'], ['Rv', 'Rv', 'iWgN', 'tgU', 'LnGi', 'tgU', 'ITZM', 'iWgN', 'Rv'], ['tgU', 'tgU', 'WAcqG', 'iWgN', 'WAcqG', 'tgU', 'WAcqG'], ['dZJa', 'OnJECH', 'iWgN', 'Rv', 'iWgN', 'LnGi', 'JgwBu', 'Rv', 'Rv'], ['OnJECH', 'JgwBu', 'ITZM', 'ITZM', 'OnJECH', 'WAcqG', 'tgU', 'WAcqG', 'tgU'], ['ITZM', 'LnGi', 'Rv', 'iWgN', 'tgU'], ['Rv', 'OnJECH', 'ITZM', 'tgU', 'Rv', 'iWgN', 'zY#tE', 'ITZM', 'JgwBu', 'tgU'], ['tgU', 'tgU', 'dZJa', 'zY#tE', 'Rv'], ['iWgN', 'ITZM'], ['Rv', 'tgU', 'LnGi', 'zY#tE', 'tgU', 'OnJECH', 'tgU'], ['ITZM', 'zY#tE', 'ITZM', 'zY#tE', 'OnJECH', 'tgU', 'ITZM'], ['OnJECH', 'tgU', 'dZJa', 'ITZM', 'Rv', 'Rv', 'dZJa'], ['tgU', 'tgU'], ['WAcqG', 'Rv', 'JgwBu', 'tgU', 'tgU', 'Rv', 'dZJa', 'iWgN', 'JgwBu', 'ITZM'], ['Rv', 'iWgN', 'WAcqG', 'tgU'], ['tgU', 'WAcqG', 'JgwBu', 'tgU', 'iWgN', 'tgU'], ['tgU', 'zY#tE', 'Rv', 'tgU'], ['Rv', 'Rv', 'LnGi', 'Rv', 'zY#tE', 'Rv', 'LnGi', 'iWgN'], ['OnJECH', 'WAcqG', 'tgU', 'LnGi', 'Rv', 'iWgN'], ['dZJa', 'zY#tE', 'tgU', 'tgU', 'zY#tE', 'Rv', 'Rv', 'ITZM', 'LnGi'], ['LnGi', 'LnGi', 'tgU'], ['dZJa', 'tgU', 'tgU'], ['LnGi', 'Rv', 'tgU', 'Rv', 'ITZM', 'Rv', 'tgU', 'Rv', 'Rv', 'zY#tE'], ['iWgN', 'Rv'], ['ITZM', 'tgU', 'tgU'], ['tgU', 'LnGi', 'ITZM', 'tgU', 'LnGi'], ['LnGi', 'Rv', 'tgU', 'dZJa'], ['ITZM', 'WAcqG'], ['tgU', 'dZJa', 'iWgN', 'LnGi', 'tgU', 'dZJa'], ['tgU', 'zY#tE'], ['Rv', 'tgU', 'ITZM', 'ITZM', 'iWgN', 'Rv', 'LnGi', 'OnJECH', 'Rv'], ['tgU', 'dZJa', 'tgU', 'tgU', 'tgU', 'Rv', 'Rv'], ['tgU', 'iWgN', 'ITZM', 'dZJa'], ['Rv', 'zY#tE', 'ITZM', 'iWgN'], ['tgU', 'OnJECH', 'zY#tE', 'tgU', 'tgU', 'ITZM', 'iWgN', 'Rv', 'tgU'], ['iWgN', 'dZJa', 'ITZM', 'dZJa', 'iWgN', 'zY#tE', 'iWgN'], ['zY#tE', 'zY#tE', 'iWgN', 'WAcqG', 'WAcqG', 'tgU', 'ITZM', 'ITZM', 'ITZM', 'tgU'], ['Rv', 'iWgN', 'iWgN', 'Rv', 'dZJa', 'iWgN', 'zY#tE', 'iWgN'], ['iWgN', 'ITZM', 'zY#tE', 'dZJa', 'tgU', 'ITZM', 'Rv', 'OnJECH', 'OnJECH', 'tgU'], ['iWgN', 'Rv', 'ITZM', 'zY#tE', 'zY#tE', 'LnGi', 'ITZM', 'dZJa', 'zY#tE', 'tgU'], ['iWgN', 'Rv'], ['Rv', 'tgU', 'WAcqG'], ['JgwBu', 'LnGi', 'OnJECH', 'ITZM', 'WAcqG', 'tgU', 'tgU', 'ITZM', 'ITZM', 'OnJECH'], ['Rv', 'tgU', 'zY#tE'], ['Rv', 'tgU', 'zY#tE', 'tgU', 'iWgN', 'ITZM', 'Rv', 'tgU'], ['LnGi', 'tgU', 'tgU', 'Rv', 'dZJa'], ['dZJa', 'tgU', 'WAcqG', 'JgwBu', 'tgU', 'Rv'], ['zY#tE', 'OnJECH', 'OnJECH', 'Rv', 'iWgN', 'tgU', 'LnGi', 'OnJECH', 'iWgN', 'Rv'], ['Rv', 'tgU', 'tgU', 'WAcqG', 'tgU', 'tgU', 'WAcqG', 'Rv'], ['iWgN', 'iWgN', 'tgU', 'ITZM', 'tgU', 'dZJa', 'ITZM', 'Rv', 'tgU'], ['WAcqG', 'zY#tE', 'Rv', 'Rv', 'tgU', 'dZJa', 'tgU', 'tgU'], ['tgU', 'Rv', 'JgwBu', 'iWgN', 'tgU'], ['Rv', 'tgU'], ['WAcqG', 'iWgN'], ['tgU', 'dZJa', 'ITZM', 'zY#tE'], ['LnGi', 'tgU', 'WAcqG', 'WAcqG', 'LnGi', 'tgU'], ['ITZM', 'zY#tE', 'tgU', 'dZJa', 'Rv', 'OnJECH', 'WAcqG', 'tgU', 'OnJECH', 'WAcqG'], ['LnGi', 'Rv', 'LnGi', 'zY#tE', 'iWgN', 'tgU'], ['ITZM', 'Rv', 'tgU', 'ITZM', 'JgwBu', 'iWgN', 'iWgN'], ['tgU', 'zY#tE', 'JgwBu'], ['OnJECH', 'Rv', 'ITZM', 'ITZM', 'LnGi', 'WAcqG', 'OnJECH', 'tgU', 'Rv'], ['tgU', 'zY#tE', 'Rv', 'LnGi', 'Rv', 'tgU'], ['OnJECH', 'Rv', 'WAcqG', 'iWgN', 'zY#tE', 'LnGi'], ['Rv', 'OnJECH', 'Rv', 'ITZM', 'Rv', 'tgU', 'Rv', 'Rv'], ['zY#tE', 'tgU', 'WAcqG', 'tgU', 'ITZM', 'WAcqG', 'ITZM', 'LnGi'], ['JgwBu', 'Rv', 'Rv', 'zY#tE', 'OnJECH', 'WAcqG', 'tgU', 'tgU'], ['tgU', 'OnJECH'], ['WAcqG', 'LnGi', 'LnGi', 'Rv'], ['tgU', 'dZJa', 'tgU', 'tgU'], ['ITZM', 'dZJa', 'iWgN', 'zY#tE', 'ITZM'], ['dZJa', 'LnGi', 'ITZM', 'iWgN', 'tgU', 'tgU'], ['ITZM', 'Rv', 'ITZM', 'LnGi', 'LnGi', 'LnGi', 'Rv'], ['OnJECH', 'zY#tE'], ['Rv', 'tgU'], ['LnGi', 'tgU', 'ITZM', 'WAcqG', 'ITZM', 'tgU', 'zY#tE', 'ITZM', 'zY#tE'], ['tgU', 'Rv', 'tgU', 'Rv', 'Rv', 'ITZM', 'iWgN', 'ITZM'], ['WAcqG', 'tgU', 'tgU', 'JgwBu'], ['tgU', 'tgU', 'dZJa', 'iWgN', 'ITZM', 'iWgN', 'Rv', 'tgU', 'Rv'], ['iWgN', 'Rv', 'tgU'], ['OnJECH', 'ITZM', 'tgU', 'Rv'], ['iWgN', 'ITZM', 'zY#tE', 'tgU', 'iWgN', 'ITZM', 'Rv'], ['zY#tE', 'tgU', 'JgwBu', 'WAcqG', 'zY#tE', 'dZJa', 'ITZM', 'iWgN'], ['OnJECH', 'ITZM'], ['Rv', 'dZJa', 'ITZM', 'dZJa', 'WAcqG', 'tgU', 'Rv', 'dZJa', 'tgU'], ['tgU', 'Rv', 'iWgN', 'tgU', 'ITZM', 'tgU', 'Rv', 'tgU'], ['WAcqG', 'tgU', 'tgU', 'LnGi', 'iWgN', 'tgU', 'LnGi', 'tgU', 'iWgN'], ['zY#tE', 'OnJECH'], ['JgwBu', 'Rv', 'OnJECH'], ['tgU', 'tgU', 'tgU', 'LnGi', 'tgU', 'zY#tE', 'dZJa', 'iWgN', 'WAcqG'], ['OnJECH', 'OnJECH', 'Rv', 'LnGi'], ['tgU', 'tgU'], ['WAcqG', 'Rv'], ['zY#tE', 'LnGi', 'dZJa', 'ITZM'], ['LnGi', 'iWgN', 'iWgN', 'iWgN', 'tgU', 'zY#tE', 'tgU'], ['WAcqG', 'tgU', 'ITZM'], ['tgU', 'WAcqG', 'LnGi', 'zY#tE', 'Rv', 'iWgN', 'tgU', 'WAcqG', 'ITZM', 'tgU'], ['Rv', 'zY#tE', 'tgU', 'tgU', 'Rv', 'tgU', 'zY#tE'], ['dZJa', 'WAcqG', 'ITZM', 'tgU', 'tgU'], ['LnGi', 'Rv', 'WAcqG', 'ITZM', 'ITZM', 'Rv', 'OnJECH', 'Rv'], ['Rv', 'zY#tE', 'zY#tE', 'JgwBu', 'tgU', 'ITZM', 'WAcqG', 'JgwBu', 'Rv'], ['tgU', 'Rv', 'tgU'], ['tgU', 'zY#tE'], ['dZJa', 'tgU', 'Rv', 'Rv', 'Rv', 'Rv', 'ITZM', 'dZJa', 'ITZM'], ['tgU', 'ITZM', 'Rv', 'OnJECH', 'JgwBu', 'tgU', 'tgU'], ['JgwBu', 'iWgN', 'tgU'], ['tgU', 'ITZM', 'tgU', 'tgU', 'tgU', 'WAcqG'], ['WAcqG', 'zY#tE', 'tgU', 'dZJa'], ['Rv', 'tgU', 'Rv', 'ITZM', 'Rv', 'tgU', 'Rv', 'ITZM'], ['iWgN', 'zY#tE', 'tgU', 'iWgN', 'tgU', 'tgU'], ['WAcqG', 'iWgN', 'tgU'], ['tgU', 'ITZM', 'tgU', 'Rv', 'iWgN', 'tgU', 'dZJa', 'JgwBu', 'Rv', 'ITZM'], ['tgU', 'zY#tE', 'tgU', 'Rv', 'iWgN'], ['Rv', 'dZJa'], ['Rv', 'tgU', 'OnJECH', 'zY#tE', 'iWgN', 'ITZM', 'ITZM', 'zY#tE'], ['LnGi', 'Rv', 'LnGi', 'tgU', 'iWgN', 'WAcqG', 'dZJa', 'Rv', 'iWgN'], ['Rv', 'LnGi', 'iWgN', 'Rv', 'tgU', 'Rv', 'WAcqG'], ['tgU', 'Rv', 'zY#tE', 'tgU', 'tgU'], ['zY#tE', 'Rv', 'iWgN', 'tgU', 'tgU', 'zY#tE', 'OnJECH', 'Rv', 'tgU'], ['tgU', 'LnGi', 'iWgN', 'tgU', 'Rv', 'Rv', 'iWgN'], ['WAcqG', 'tgU', 'ITZM'], ['Rv', 'Rv'], ['iWgN', 'tgU'], ['ITZM', 'JgwBu', 'iWgN', 'tgU', 'iWgN', 'zY#tE', 'WAcqG', 'JgwBu', 'tgU'], ['iWgN', 'iWgN', 'dZJa', 'zY#tE', 'JgwBu', 'ITZM'], ['JgwBu', 'LnGi'], ['iWgN', 'iWgN', 'LnGi', 'WAcqG', 'WAcqG', 'Rv', 'tgU', 'WAcqG', 'tgU', 'JgwBu'], ['dZJa', 'tgU', 'LnGi', 'WAcqG', 'iWgN'], ['LnGi', 'tgU', 'ITZM', 'zY#tE', 'WAcqG'], ['Rv', 'ITZM', 'Rv'], ['iWgN', 'ITZM', 'Rv', 'tgU', 'iWgN', 'LnGi', 'JgwBu', 'tgU', 'OnJECH', 'LnGi'], ['zY#tE', 'Rv', 'JgwBu', 'WAcqG', 'Rv', 'tgU', 'JgwBu', 'ITZM', 'ITZM', 'tgU'], ['Rv', 'JgwBu', 'iWgN', 'dZJa', 'LnGi', 'iWgN', 'Rv', 'LnGi'], ['WAcqG', 'Rv', 'LnGi', 'tgU', 'JgwBu', 'OnJECH', 'Rv', 'OnJECH', 'LnGi', 'tgU'], ['Rv', 'ITZM', 'dZJa', 'JgwBu', 'Rv', 'tgU'], ['Rv', 'iWgN', 'WAcqG'], ['JgwBu', 'iWgN', 'tgU', 'ITZM'], ['tgU', 'tgU', 'tgU', 'ITZM', 'Rv', 'tgU', 'ITZM', 'tgU'], ['tgU', 'Rv', 'Rv', 'OnJECH', 'ITZM', 'LnGi', 'zY#tE', 'tgU'], ['OnJECH', 'zY#tE', 'Rv'], ['Rv', 'JgwBu', 'tgU'], ['zY#tE', 'Rv', 'tgU', 'Rv', 'ITZM', 'Rv', 'dZJa', 'ITZM'], ['tgU', 'WAcqG', 'LnGi'], ['iWgN', 'tgU', 'Rv'], ['tgU', 'Rv', 'zY#tE', 'tgU', 'Rv', 'ITZM', 'iWgN', 'LnGi'], ['ITZM', 'tgU', 'zY#tE', 'OnJECH'], ['Rv', 'JgwBu'], ['Rv', 'tgU', 'tgU', 'tgU', 'LnGi', 'tgU', 'tgU', 'OnJECH', 'tgU'], ['Rv', 'Rv', 'zY#tE', 'Rv', 'ITZM', 'Rv', 'Rv', 'tgU'], ['zY#tE', 'tgU', 'tgU', 'WAcqG', 'tgU', 'Rv', 'ITZM', 'Rv'], ['tgU', 'OnJECH'], ['tgU', 'tgU', 'LnGi', 'Rv', 'tgU', 'LnGi', 'Rv', 'Rv', 'tgU'], ['ITZM', 'ITZM', 'iWgN', 'Rv', 'iWgN', 'OnJECH', 'tgU'], ['tgU', 'ITZM', 'tgU', 'zY#tE', 'zY#tE', 'tgU'], ['ITZM', 'iWgN', 'OnJECH'], ['zY#tE', 'tgU', 'iWgN', 'tgU', 'Rv', 'Rv', 'zY#tE'], ['Rv', 'ITZM', 'Rv'], ['tgU', 'iWgN', 'zY#tE'], ['ITZM', 'tgU', 'Rv', 'WAcqG', 'Rv', 'ITZM', 'LnGi'], ['tgU', 'ITZM'], ['JgwBu', 'ITZM', 'tgU', 'iWgN', 'LnGi', 'tgU', 'zY#tE'], ['zY#tE', 'tgU', 'ITZM', 'iWgN', 'OnJECH', 'dZJa', 'Rv'], ['JgwBu', 'Rv', 'WAcqG', 'zY#tE'], ['ITZM', 'Rv'], ['tgU', 'iWgN', 'tgU', 'iWgN', 'tgU'], ['WAcqG', 'LnGi', 'tgU', 'dZJa', 'JgwBu', 'tgU', 'zY#tE'], ['Rv', 'Rv', 'ITZM'], ['iWgN', 'zY#tE', 'JgwBu', 'WAcqG'], ['ITZM', 'ITZM', 'iWgN', 'tgU', 'Rv'], ['tgU', 'ITZM'], ['LnGi', 'tgU', 'WAcqG', 'iWgN', 'ITZM'], ['JgwBu', 'ITZM', 'tgU'], ['JgwBu', 'tgU'], ['Rv', 'tgU', 'Rv', 'OnJECH', 'ITZM', 'OnJECH'], ['WAcqG', 'tgU', 'Rv', 'zY#tE', 'dZJa', 'ITZM', 'Rv'], ['tgU', 'LnGi'], ['tgU', 'WAcqG', 'ITZM', 'tgU', 'dZJa'], ['ITZM', 'WAcqG', 'OnJECH', 'tgU'], ['OnJECH', 'zY#tE', 'dZJa', 'Rv'], ['tgU', 'tgU', 'Rv', 'iWgN', 'tgU', 'tgU', 'tgU', 'JgwBu', 'tgU'], ['ITZM', 'LnGi', 'iWgN'], ['ITZM', 'iWgN', 'Rv', 'Rv', 'Rv', 'ITZM', 'WAcqG', 'zY#tE', 'iWgN'], ['Rv', 'zY#tE', 'Rv', 'tgU', 'iWgN', 'zY#tE', 'tgU'], ['JgwBu', 'ITZM', 'tgU', 'tgU', 'WAcqG', 'tgU'], ['ITZM', 'LnGi', 'JgwBu', 'iWgN'], ['LnGi', 'ITZM'], ['Rv', 'tgU', 'iWgN', 'Rv', 'tgU'], ['OnJECH', 'OnJECH', 'dZJa', 'WAcqG', 'Rv', 'JgwBu', 'WAcqG'], ['OnJECH', 'Rv', 'tgU', 'zY#tE', 'tgU', 'Rv', 'iWgN'], ['tgU', 'Rv', 'Rv', 'JgwBu', 'tgU', 'tgU', 'Rv', 'tgU', 'iWgN'], ['tgU', 'Rv', 'tgU', 'Rv', 'ITZM', 'dZJa'], ['Rv', 'OnJECH', 'tgU', 'Rv', 'ITZM', 'Rv'], ['Rv', 'tgU', 'tgU', 'LnGi', 'tgU', 'LnGi', 'Rv', 'ITZM', 'ITZM', 'tgU'], ['tgU', 'WAcqG', 'tgU', 'tgU', 'iWgN', 'zY#tE', 'tgU'], ['OnJECH', 'tgU', 'tgU', 'Rv'], ['ITZM', 'LnGi', 'tgU'], ['LnGi', 'zY#tE', 'tgU'], ['WAcqG', 'iWgN', 'iWgN', 'zY#tE', 'JgwBu', 'OnJECH', 'tgU', 'LnGi', 'tgU', 'Rv'], ['LnGi', 'ITZM', 'iWgN', 'tgU', 'OnJECH', 'tgU'], ['tgU', 'ITZM', 'iWgN', 'dZJa'], ['LnGi', 'Rv', 'Rv', 'ITZM', 'JgwBu', 'JgwBu', 'Rv', 'tgU'], ['tgU', 'JgwBu', 'tgU', 'tgU'], ['tgU', 'zY#tE', 'JgwBu', 'ITZM'], ['tgU', 'JgwBu', 'LnGi', 'tgU', 'zY#tE'], ['Rv', 'tgU', 'tgU', 'iWgN', 'dZJa', 'iWgN', 'Rv'], ['iWgN', 'LnGi', 'LnGi', 'Rv', 'tgU', 'iWgN', 'zY#tE', 'iWgN', 'JgwBu', 'JgwBu'], ['ITZM', 'LnGi', 'iWgN', 'tgU', 'tgU'], ['Rv', 'dZJa', 'tgU', 'Rv', 'iWgN'], ['LnGi', 'WAcqG', 'LnGi', 'WAcqG'], ['Rv', 'Rv', 'LnGi', 'JgwBu', 'OnJECH', 'LnGi'], ['tgU', 'tgU', 'iWgN', 'ITZM', 'dZJa', 'ITZM', 'ITZM'], ['Rv', 'LnGi', 'iWgN', 'tgU', 'tgU', 'tgU', 'zY#tE', 'iWgN'], ['iWgN', 'iWgN'], ['tgU', 'Rv', 'tgU', 'iWgN'], ['Rv', 'ITZM'], ['LnGi', 'tgU', 'iWgN', 'OnJECH', 'Rv', 'iWgN', 'JgwBu', 'Rv'], ['Rv', 'dZJa', 'dZJa'], ['Rv', 'tgU', 'ITZM'], ['ITZM', 'Rv', 'tgU', 'OnJECH'], ['LnGi', 'tgU', 'JgwBu', 'Rv', 'tgU', 'OnJECH', 'LnGi', 'Rv'], ['tgU', 'tgU', 'ITZM', 'JgwBu', 'zY#tE', 'iWgN'], ['dZJa', 'tgU', 'ITZM', 'ITZM', 'zY#tE', 'tgU', 'tgU', 'JgwBu', 'WAcqG', 'zY#tE'], ['zY#tE', 'ITZM', 'tgU', 'ITZM', 'zY#tE', 'Rv', 'zY#tE', 'Rv'], ['Rv', 'Rv', 'tgU', 'LnGi'], ['tgU', 'iWgN', 'zY#tE', 'zY#tE', 'LnGi', 'zY#tE', 'ITZM', 'ITZM'], ['zY#tE', 'zY#tE', 'JgwBu', 'Rv', 'WAcqG', 'tgU'], ['iWgN', 'tgU', 'WAcqG', 'iWgN', 'tgU', 'tgU', 'ITZM'], ['ITZM', 'Rv', 'ITZM'], ['Rv', 'Rv', 'tgU', 'dZJa', 'tgU'], ['tgU', 'Rv', 'ITZM', 'OnJECH', 'tgU', 'tgU', 'Rv', 'Rv', 'tgU'], ['Rv', 'iWgN', 'OnJECH', 'ITZM', 'WAcqG', 'tgU', 'iWgN'], ['LnGi', 'tgU', 'tgU', 'Rv', 'dZJa', 'tgU', 'JgwBu', 'zY#tE', 'Rv', 'zY#tE'], ['LnGi', 'WAcqG'], ['JgwBu', 'ITZM', 'LnGi', 'Rv', 'Rv', 'tgU', 'iWgN', 'Rv'], ['zY#tE', 'iWgN', 'Rv', 'tgU', 'WAcqG', 'tgU', 'tgU', 'Rv'], ['dZJa', 'OnJECH'], ['iWgN', 'zY#tE', 'tgU', 'Rv', 'ITZM', 'zY#tE', 'Rv', 'Rv'], ['Rv', 'WAcqG', 'zY#tE', 'zY#tE', 'Rv', 'Rv', 'WAcqG'], ['ITZM', 'LnGi', 'zY#tE', 'ITZM', 'ITZM', 'Rv', 'tgU', 'OnJECH', 'Rv'], ['Rv', 'tgU', 'LnGi', 'dZJa', 'zY#tE'], ['tgU', 'Rv', 'tgU', 'zY#tE', 'Rv', 'tgU', 'ITZM'], ['tgU', 'ITZM', 'Rv', 'dZJa', 'OnJECH', 'iWgN'], ['dZJa', 'tgU', 'Rv', 'dZJa', 'tgU', 'tgU', 'tgU', 'dZJa', 'tgU'], ['ITZM', 'WAcqG', 'tgU'], ['iWgN', 'zY#tE', 'OnJECH', 'ITZM'], ['iWgN', 'ITZM', 'tgU'], ['OnJECH', 'dZJa', 'tgU', 'tgU', 'WAcqG', 'zY#tE'], ['WAcqG', 'OnJECH', 'Rv'], ['tgU', 'Rv', 'Rv', 'ITZM', 'Rv', 'tgU', 'tgU', 'tgU', 'ITZM', 'ITZM'], ['Rv', 'WAcqG', 'tgU', 'Rv'], ['OnJECH', 'iWgN', 'tgU', 'tgU', 'tgU', 'LnGi', 'JgwBu', 'dZJa', 'tgU'], ['zY#tE', 'Rv', 'Rv', 'WAcqG', 'tgU', 'dZJa', 'tgU', 'Rv'], ['tgU', 'LnGi', 'Rv', 'tgU'], ['Rv', 'tgU', 'OnJECH', 'LnGi', 'Rv', 'tgU', 'WAcqG', 'LnGi'], ['Rv', 'ITZM', 'tgU', 'LnGi', 'iWgN', 'ITZM', 'tgU', 'LnGi'], ['ITZM', 'Rv', 'tgU', 'OnJECH'], ['WAcqG', 'Rv', 'Rv', 'tgU', 'tgU'], ['tgU', 'dZJa', 'tgU', 'Rv', 'WAcqG', 'WAcqG', 'LnGi', 'tgU', 'OnJECH'], ['LnGi', 'LnGi', 'tgU', 'tgU', 'Rv', 'ITZM', 'zY#tE'], ['JgwBu', 'tgU', 'tgU', 'zY#tE', 'tgU', 'Rv', 'LnGi', 'Rv', 'LnGi', 'tgU'], ['tgU', 'iWgN', 'LnGi', 'ITZM'], ['iWgN', 'WAcqG', 'LnGi', 'Rv', 'dZJa', 'iWgN', 'WAcqG'], ['zY#tE', 'ITZM', 'iWgN', 'tgU', 'LnGi', 'LnGi', 'tgU', 'WAcqG', 'zY#tE'], ['iWgN', 'tgU', 'ITZM'], ['JgwBu', 'tgU', 'Rv', 'tgU', 'Rv', 'tgU', 'dZJa', 'ITZM', 'tgU'], ['tgU', 'ITZM', 'dZJa', 'Rv', 'Rv'], ['Rv', 'ITZM', 'JgwBu', 'ITZM', 'LnGi', 'tgU'], ['ITZM', 'Rv'], ['tgU', 'ITZM', 'LnGi', 'tgU', 'iWgN', 'dZJa', 'LnGi', 'tgU', 'JgwBu'], ['JgwBu', 'tgU', 'Rv', 'Rv', 'OnJECH', 'Rv', 'Rv', 'tgU', 'LnGi'], ['Rv', 'tgU'], ['tgU', 'iWgN', 'ITZM', 'dZJa', 'iWgN'], ['Rv', 'tgU', 'tgU', 'iWgN', 'JgwBu', 'tgU'], ['tgU', 'OnJECH', 'zY#tE'], ['tgU', 'Rv', 'iWgN', 'Rv', 'ITZM', 'tgU'], ['iWgN', 'iWgN', 'JgwBu', 'Rv', 'tgU', 'JgwBu', 'ITZM', 'LnGi', 'OnJECH', 'tgU'], ['iWgN', 'ITZM', 'ITZM', 'dZJa'], ['iWgN', 'JgwBu', 'iWgN', 'LnGi', 'Rv', 'Rv', 'ITZM', 'zY#tE'], ['zY#tE', 'Rv', 'OnJECH', 'zY#tE', 'tgU', 'tgU', 'WAcqG', 'Rv', 'tgU'], ['dZJa', 'iWgN', 'dZJa'], ['tgU', 'ITZM', 'Rv', 'JgwBu', 'LnGi', 'LnGi', 'WAcqG', 'ITZM', 'zY#tE'], ['dZJa', 'ITZM', 'tgU', 'OnJECH', 'ITZM'], ['tgU', 'LnGi', 'ITZM', 'ITZM', 'tgU', 'iWgN', 'ITZM', 'LnGi', 'tgU', 'JgwBu'], ['iWgN', 'LnGi', 'Rv', 'tgU', 'Rv', 'tgU', 'Rv', 'ITZM'], ['Rv', 'tgU', 'zY#tE', 'tgU', 'JgwBu', 'Rv'], ['tgU', 'dZJa'], ['tgU', 'tgU', 'ITZM'], ['Rv', 'WAcqG', 'zY#tE', 'tgU', 'Rv', 'ITZM'], ['Rv', 'dZJa'], ['tgU', 'Rv'], ['Rv', 'iWgN', 'WAcqG', 'LnGi', 'JgwBu', 'WAcqG'], ['tgU', 'tgU', 'zY#tE', 'Rv', 'Rv', 'ITZM', 'tgU', 'iWgN'], ['tgU', 'WAcqG', 'tgU', 'ITZM', 'ITZM', 'Rv', 'ITZM', 'ITZM', 'dZJa', 'LnGi'], ['iWgN', 'tgU', 'tgU', 'LnGi', 'ITZM', 'zY#tE', 'zY#tE', 'Rv'], ['WAcqG', 'JgwBu', 'tgU', 'Rv', 'tgU', 'iWgN', 'ITZM', 'Rv', 'tgU'], ['tgU', 'iWgN', 'tgU'], ['iWgN', 'iWgN', 'iWgN', 'dZJa', 'tgU', 'Rv'], ['WAcqG', 'Rv', 'LnGi', 'Rv', 'ITZM', 'Rv', 'Rv'], ['ITZM', 'LnGi', 'OnJECH', 'LnGi', 'Rv', 'JgwBu'], ['tgU', 'Rv', 'ITZM', 'iWgN', 'LnGi'], ['ITZM', 'JgwBu', 'Rv'], ['tgU', 'iWgN'], ['ITZM', 'tgU', 'Rv'], ['tgU', 'ITZM', 'Rv', 'ITZM', 'tgU', 'LnGi'], ['tgU', 'OnJECH', 'JgwBu', 'tgU', 'iWgN', 'tgU'], ['Rv', 'tgU', 'zY#tE', 'Rv', 'tgU', 'Rv', 'Rv', 'zY#tE', 'zY#tE', 'LnGi'], ['tgU', 'Rv', 'zY#tE', 'tgU', 'tgU', 'iWgN', 'Rv'], ['LnGi', 'dZJa', 'tgU'], ['tgU', 'LnGi', 'dZJa', 'Rv', 'LnGi', 'dZJa', 'OnJECH', 'dZJa', 'LnGi', 'tgU'], ['Rv', 'iWgN', 'ITZM', 'iWgN', 'OnJECH'], ['zY#tE', 'Rv', 'iWgN', 'LnGi'], ['tgU', 'tgU', 'LnGi'], ['tgU', 'ITZM', 'tgU', 'Rv', 'tgU', 'WAcqG', 'ITZM', 'LnGi'], ['zY#tE', 'Rv', 'JgwBu', 'tgU', 'ITZM', 'ITZM'], ['Rv', 'ITZM', 'zY#tE', 'tgU', 'dZJa', 'tgU'], ['iWgN', 'LnGi', 'LnGi', 'tgU', 'Rv', 'Rv', 'Rv', 'ITZM', 'tgU', 'dZJa'], ['tgU', 'OnJECH', 'Rv', 'LnGi'], ['Rv', 'iWgN', 'zY#tE', 'iWgN', 'dZJa', 'Rv', 'ITZM', 'WAcqG', 'JgwBu', 'iWgN'], ['tgU', 'zY#tE', 'Rv', 'Rv', 'LnGi'], ['tgU', 'tgU', 'tgU', 'ITZM', 'dZJa', 'LnGi', 'ITZM', 'tgU', 'LnGi', 'WAcqG'], ['dZJa', 'LnGi', 'WAcqG'], ['ITZM', 'ITZM', 'tgU', 'Rv', 'tgU', 'WAcqG', 'Rv', 'Rv'], ['ITZM', 'Rv', 'iWgN', 'tgU', 'dZJa', 'tgU', 'JgwBu', 'iWgN', 'tgU', 'LnGi'], ['LnGi', 'tgU', 'tgU', 'LnGi', 'Rv', 'iWgN', 'Rv', 'iWgN'], ['WAcqG', 'tgU', 'tgU', 'tgU', 'iWgN', 'iWgN'], ['Rv', 'ITZM', 'Rv', 'ITZM', 'Rv', 'tgU'], ['iWgN', 'tgU', 'LnGi', 'OnJECH', 'JgwBu', 'tgU', 'OnJECH', 'dZJa', 'JgwBu'], ['ITZM', 'Rv', 'Rv', 'Rv', 'iWgN', 'Rv', 'tgU'], ['ITZM', 'Rv', 'tgU', 'iWgN'], ['ITZM', 'Rv', 'Rv', 'iWgN'], ['JgwBu', 'tgU', 'WAcqG'], ['OnJECH', 'tgU', 'LnGi'], ['JgwBu', 'ITZM', 'tgU', 'WAcqG', 'WAcqG', 'ITZM', 'ITZM', 'Rv'], ['WAcqG', 'tgU', 'WAcqG', 'tgU', 'Rv', 'ITZM', 'Rv', 'ITZM'], ['Rv', 'zY#tE', 'tgU', 'LnGi', 'Rv', 'Rv', 'tgU', 'ITZM', 'ITZM'], ['ITZM', 'iWgN', 'Rv', 'tgU'], ['OnJECH', 'WAcqG', 'tgU', 'dZJa', 'Rv', 'JgwBu', 'dZJa', 'JgwBu', 'zY#tE', 'dZJa'], ['LnGi', 'tgU', 'ITZM', 'tgU', 'Rv', 'JgwBu'], ['ITZM', 'zY#tE', 'OnJECH', 'zY#tE', 'WAcqG', 'WAcqG', 'ITZM'], ['zY#tE', 'tgU', 'dZJa', 'ITZM', 'LnGi', 'Rv', 'Rv', 'dZJa', 'ITZM'], ['ITZM', 'WAcqG', 'ITZM', 'ITZM', 'Rv', 'ITZM', 'Rv', 'LnGi'], ['LnGi', 'Rv', 'ITZM', 'Rv', 'Rv'], ['tgU', 'tgU', 'Rv', 'Rv', 'dZJa', 'JgwBu', 'Rv', 'ITZM', 'Rv'], ['ITZM', 'dZJa', 'iWgN', 'zY#tE', 'LnGi', 'LnGi', 'zY#tE', 'tgU', 'iWgN'], ['tgU', 'LnGi', 'tgU', 'tgU', 'LnGi', 'WAcqG', 'tgU', 'tgU', 'iWgN', 'dZJa'], ['OnJECH', 'zY#tE', 'Rv', 'Rv', 'tgU', 'iWgN', 'Rv'], ['Rv', 'LnGi', 'ITZM', 'iWgN', 'WAcqG', 'LnGi', 'ITZM', 'ITZM', 'tgU'], ['LnGi', 'OnJECH'], ['ITZM', 'JgwBu', 'tgU', 'LnGi', 'zY#tE', 'JgwBu', 'OnJECH', 'tgU', 'Rv'], ['OnJECH', 'tgU', 'ITZM', 'tgU', 'tgU', 'ITZM'], ['tgU', 'zY#tE', 'WAcqG', 'dZJa'], ['tgU', 'OnJECH', 'iWgN', 'WAcqG', 'Rv', 'tgU', 'tgU', 'zY#tE', 'tgU'], ['ITZM', 'iWgN'], ['tgU', 'iWgN', 'OnJECH', 'Rv', 'ITZM'], ['ITZM', 'dZJa'], ['iWgN', 'LnGi', 'Rv', 'WAcqG', 'ITZM', 'JgwBu', 'iWgN'], ['zY#tE', 'iWgN', 'ITZM', 'tgU', 'Rv', 'ITZM', 'iWgN', 'LnGi', 'Rv'], ['Rv', 'iWgN', 'Rv', 'ITZM', 'LnGi', 'WAcqG', 'tgU', 'ITZM'], ['iWgN', 'ITZM'], ['iWgN', 'tgU', 'LnGi', 'WAcqG', 'tgU', 'LnGi', 'JgwBu', 'tgU', 'tgU', 'tgU'], ['tgU', 'dZJa', 'WAcqG'], ['dZJa', 'tgU', 'Rv'], ['ITZM', 'JgwBu', 'zY#tE', 'ITZM', 'tgU', 'zY#tE', 'JgwBu', 'tgU'], ['Rv', 'LnGi'], ['tgU', 'tgU', 'Rv', 'iWgN', 'LnGi', 'tgU', 'tgU'], ['Rv', 'iWgN'], ['tgU', 'ITZM', 'tgU'], ['iWgN', 'Rv'], ['dZJa', 'tgU', 'tgU', 'WAcqG', 'WAcqG', 'tgU'], ['LnGi', 'ITZM', 'tgU', 'tgU', 'dZJa', 'OnJECH'], ['Rv', 'iWgN', 'OnJECH', 'WAcqG', 'Rv'], ['WAcqG', 'LnGi', 'LnGi', 'tgU'], ['Rv', 'LnGi', 'tgU', 'Rv', 'ITZM', 'tgU'], ['OnJECH', 'dZJa', 'iWgN', 'zY#tE', 'LnGi'], ['OnJECH', 'tgU', 'tgU'], ['Rv', 'tgU', 'Rv', 'Rv', 'JgwBu', 'dZJa', 'OnJECH', 'iWgN'], ['Rv', 'tgU', 'tgU', 'JgwBu', 'iWgN', 'tgU', 'WAcqG', 'ITZM', 'WAcqG'], ['Rv', 'Rv', 'iWgN', 'Rv', 'LnGi', 'tgU', 'LnGi'], ['tgU', 'zY#tE', 'Rv', 'tgU', 'JgwBu', 'tgU', 'zY#tE', 'WAcqG'], ['OnJECH', 'JgwBu', 'tgU', 'Rv'], ['WAcqG', 'Rv', 'Rv', 'tgU', 'zY#tE', 'iWgN', 'zY#tE'], ['LnGi', 'dZJa', 'tgU', 'tgU', 'tgU', 'Rv', 'tgU', 'JgwBu'], ['OnJECH', 'WAcqG', 'iWgN', 'Rv', 'tgU', 'Rv', 'ITZM', 'tgU'], ['zY#tE', 'Rv', 'dZJa', 'iWgN'], ['tgU', 'JgwBu', 'tgU', 'tgU', 'ITZM', 'dZJa', 'ITZM', 'WAcqG', 'iWgN'], ['iWgN', 'tgU', 'Rv', 'tgU'], ['Rv', 'tgU', 'tgU', 'tgU', 'tgU', 'iWgN', 'tgU', 'tgU', 'tgU', 'Rv'], ['zY#tE', 'ITZM', 'iWgN', 'WAcqG', 'LnGi', 'dZJa', 'ITZM'], ['dZJa', 'tgU', 'JgwBu', 'Rv'], ['iWgN', 'Rv', 'Rv', 'Rv', 'WAcqG'], ['Rv', 'JgwBu', 'LnGi', 'ITZM'], ['WAcqG', 'tgU', 'ITZM', 'iWgN', 'Rv', 'tgU', 'Rv', 'tgU', 'Rv'], ['dZJa', 'tgU', 'zY#tE', 'JgwBu', 'dZJa', 'JgwBu', 'ITZM'], ['tgU', 'zY#tE', 'iWgN', 'ITZM', 'ITZM', 'Rv', 'Rv', 'ITZM'], ['tgU', 'WAcqG', 'zY#tE', 'tgU', 'WAcqG', 'iWgN', 'Rv', 'Rv'], ['JgwBu', 'dZJa', 'ITZM', 'Rv', 'Rv', 'tgU', 'Rv', 'tgU', 'LnGi'], ['tgU', 'iWgN', 'ITZM', 'WAcqG', 'OnJECH', 'tgU', 'iWgN', 'ITZM'], ['Rv', 'tgU', 'Rv', 'tgU', 'ITZM'], ['tgU', 'WAcqG', 'zY#tE', 'dZJa', 'tgU'], ['zY#tE', 'tgU', 'iWgN', 'Rv', 'ITZM', 'Rv', 'Rv', 'tgU', 'LnGi'], ['tgU', 'ITZM', 'tgU', 'tgU', 'Rv'], ['OnJECH', 'LnGi'], ['iWgN', 'Rv', 'tgU', 'tgU', 'Rv', 'iWgN', 'Rv', 'ITZM'], ['iWgN', 'Rv'], ['ITZM', 'WAcqG', 'ITZM', 'iWgN', 'dZJa'], ['WAcqG', 'zY#tE', 'tgU'], ['tgU', 'iWgN', 'OnJECH', 'ITZM'], ['ITZM', 'Rv', 'LnGi', 'iWgN', 'dZJa', 'Rv', 'tgU'], ['tgU', 'tgU'], ['WAcqG', 'ITZM', 'Rv', 'WAcqG'], ['Rv', 'ITZM', 'iWgN', 'OnJECH', 'ITZM'], ['WAcqG', 'tgU', 'ITZM', 'ITZM', 'iWgN', 'dZJa'], ['ITZM', 'ITZM', 'tgU'], ['Rv', 'JgwBu', 'JgwBu', 'iWgN', 'Rv', 'ITZM', 'iWgN', 'ITZM', 'ITZM', 'JgwBu'], ['JgwBu', 'tgU', 'ITZM', 'JgwBu', 'Rv', 'JgwBu'], ['tgU', 'WAcqG', 'tgU', 'ITZM', 'tgU', 'JgwBu', 'tgU'], ['Rv', 'WAcqG', 'ITZM', 'tgU', 'LnGi', 'tgU', 'iWgN', 'OnJECH'], ['OnJECH', 'LnGi', 'tgU', 'Rv', 'OnJECH', 'zY#tE', 'tgU', 'iWgN', 'tgU'], ['ITZM', 'tgU'], ['Rv', 'tgU', 'zY#tE', 'tgU', 'dZJa', 'tgU', 'WAcqG', 'OnJECH', 'ITZM', 'tgU'], ['JgwBu', 'Rv', 'tgU', 'tgU', 'iWgN', 'LnGi', 'WAcqG', 'tgU', 'LnGi', 'tgU'], ['tgU', 'dZJa', 'tgU', 'LnGi', 'dZJa', 'tgU', 'tgU', 'tgU'], ['LnGi', 'iWgN', 'Rv', 'iWgN', 'dZJa', 'iWgN', 'iWgN', 'tgU', 'tgU'], ['ITZM', 'zY#tE', 'Rv', 'LnGi', 'tgU', 'tgU', 'Rv', 'iWgN', 'LnGi'], ['Rv', 'Rv', 'tgU', 'Rv', 'tgU', 'tgU'], ['Rv', 'Rv', 'dZJa', 'ITZM', 'LnGi', 'tgU', 'tgU', 'ITZM', 'iWgN'], ['ITZM', 'dZJa', 'JgwBu', 'tgU', 'iWgN'], ['ITZM', 'iWgN', 'tgU', 'tgU', 'ITZM', 'iWgN', 'iWgN'], ['iWgN', 'tgU', 'Rv', 'Rv', 'LnGi', 'Rv'], ['Rv', 'ITZM'], ['LnGi', 'ITZM'], ['dZJa', 'LnGi'], ['Rv', 'tgU', 'iWgN', 'dZJa'], ['zY#tE', 'Rv', 'tgU', 'iWgN', 'Rv', 'Rv', 'tgU'], ['dZJa', 'OnJECH'], ['dZJa', 'OnJECH', 'LnGi', 'JgwBu', 'tgU', 'tgU'], ['Rv', 'Rv'], ['tgU', 'ITZM', 'Rv', 'Rv'], ['dZJa', 'tgU', 'ITZM'], ['tgU', 'dZJa', 'iWgN', 'zY#tE', 'JgwBu', 'OnJECH', 'LnGi', 'WAcqG'], ['iWgN', 'tgU', 'ITZM', 'Rv', 'tgU'], ['WAcqG', 'tgU', 'ITZM', 'OnJECH', 'tgU', 'iWgN', 'Rv', 'tgU'], ['tgU', 'tgU', 'Rv', 'iWgN', 'Rv', 'tgU', 'WAcqG', 'Rv', 'zY#tE', 'ITZM'], ['Rv', 'tgU', 'Rv', 'Rv', 'iWgN'], ['Rv', 'Rv', 'OnJECH', 'Rv', 'tgU', 'zY#tE', 'ITZM', 'tgU', 'iWgN'], ['iWgN', 'ITZM', 'OnJECH', 'tgU', 'WAcqG'], ['ITZM', 'dZJa', 'tgU', 'tgU', 'tgU', 'dZJa', 'WAcqG'], ['LnGi', 'tgU', 'tgU'], ['tgU', 'LnGi', 'ITZM'], ['tgU', 'tgU', 'tgU', 'dZJa', 'iWgN', 'ITZM', 'OnJECH'], ['dZJa', 'tgU', 'WAcqG', 'iWgN', 'ITZM', 'zY#tE', 'WAcqG'], ['JgwBu', 'Rv', 'WAcqG', 'JgwBu', 'LnGi', 'tgU', 'tgU', 'ITZM', 'OnJECH', 'iWgN'], ['OnJECH', 'ITZM', 'tgU', 'LnGi', 'Rv', 'OnJECH', 'JgwBu', 'JgwBu', 'JgwBu'], ['zY#tE', 'tgU', 'zY#tE', 'iWgN', 'Rv', 'JgwBu', 'WAcqG'], ['WAcqG', 'tgU', 'dZJa', 'LnGi', 'tgU', 'JgwBu'], ['dZJa', 'ITZM'], ['Rv', 'tgU', 'JgwBu', 'dZJa', 'dZJa', 'tgU', 'WAcqG', 'ITZM', 'JgwBu', 'OnJECH'], ['tgU', 'OnJECH'], ['iWgN', 'ITZM', 'LnGi', 'iWgN', 'ITZM'], ['tgU', 'Rv', 'OnJECH', 'tgU', 'tgU', 'ITZM', 'tgU'], ['LnGi', 'tgU', 'JgwBu'], ['iWgN', 'LnGi', 'zY#tE', 'Rv', 'iWgN'], ['JgwBu', 'WAcqG', 'iWgN', 'tgU', 'dZJa', 'tgU', 'tgU', 'Rv', 'Rv', 'ITZM'], ['dZJa', 'zY#tE', 'tgU', 'zY#tE', 'Rv', 'tgU', 'JgwBu'], ['Rv', 'iWgN', 'Rv', 'ITZM', 'Rv'], ['tgU', 'Rv', 'Rv', 'tgU', 'OnJECH'], ['iWgN', 'tgU', 'tgU', 'LnGi', 'ITZM', 'OnJECH'], ['LnGi', 'ITZM', 'Rv', 'dZJa', 'iWgN', 'Rv'], ['LnGi', 'dZJa', 'tgU', 'tgU', 'tgU', 'OnJECH'], ['WAcqG', 'WAcqG', 'Rv', 'tgU', 'JgwBu', 'tgU', 'ITZM', 'Rv', 'iWgN', 'Rv'], ['iWgN', 'ITZM', 'tgU', 'ITZM', 'OnJECH', 'Rv', 'ITZM', 'ITZM'], ['tgU', 'tgU', 'tgU', 'tgU', 'ITZM', 'Rv'], ['ITZM', 'ITZM', 'ITZM', 'LnGi', 'ITZM', 'ITZM', 'LnGi', 'tgU', 'ITZM'], ['zY#tE', 'iWgN', 'tgU', 'iWgN', 'tgU', 'Rv', 'OnJECH'], ['iWgN', 'dZJa', 'WAcqG', 'LnGi', 'LnGi'], ['dZJa', 'Rv'], ['zY#tE', 'dZJa', 'Rv', 'zY#tE', 'ITZM', 'OnJECH'], ['Rv', 'tgU', 'tgU', 'Rv', 'tgU', 'ITZM', 'WAcqG', 'iWgN', 'Rv', 'ITZM'], ['OnJECH', 'WAcqG', 'Rv'], ['Rv', 'ITZM'], ['ITZM', 'tgU', 'ITZM', 'Rv', 'iWgN', 'tgU', 'Rv', 'iWgN', 'WAcqG'], ['ITZM', 'Rv', 'ITZM', 'zY#tE', 'tgU', 'Rv', 'LnGi', 'Rv', 'Rv'], ['Rv', 'tgU', 'Rv', 'tgU', 'JgwBu', 'dZJa', 'WAcqG', 'iWgN', 'tgU'], ['tgU', 'LnGi'], ['Rv', 'ITZM', 'iWgN', 'zY#tE', 'Rv', 'zY#tE', 'iWgN', 'LnGi'], ['dZJa', 'iWgN', 'iWgN', 'iWgN', 'LnGi', 'LnGi', 'LnGi', 'tgU', 'WAcqG'], ['tgU', 'tgU', 'dZJa', 'WAcqG', 'Rv', 'dZJa', 'JgwBu', 'tgU', 'tgU'], ['tgU', 'tgU', 'tgU', 'LnGi', 'zY#tE', 'iWgN', 'Rv', 'tgU', 'iWgN'], ['zY#tE', 'tgU', 'Rv'], ['tgU', 'tgU', 'Rv'], ['tgU', 'JgwBu', 'Rv'], ['iWgN', 'WAcqG', 'tgU', 'zY#tE', 'ITZM'], ['tgU', 'tgU', 'OnJECH'], ['OnJECH', 'Rv', 'Rv', 'WAcqG'], ['LnGi', 'WAcqG', 'tgU', 'tgU', 'tgU', 'OnJECH', 'tgU', 'Rv'], ['LnGi', 'JgwBu', 'zY#tE', 'ITZM', 'dZJa'], ['LnGi', 'tgU', 'LnGi', 'tgU', 'JgwBu', 'zY#tE', 'iWgN', 'Rv', 'zY#tE'], ['dZJa', 'Rv', 'JgwBu'], ['tgU', 'iWgN', 'LnGi', 'OnJECH', 'LnGi', 'WAcqG', 'ITZM', 'OnJECH'], ['tgU', 'iWgN', 'tgU', 'tgU', 'ITZM', 'iWgN', 'Rv', 'Rv', 'zY#tE', 'iWgN'], ['OnJECH', 'dZJa', 'ITZM', 'tgU', 'Rv', 'JgwBu', 'JgwBu', 'ITZM'], ['tgU', 'tgU'], ['WAcqG', 'Rv', 'Rv', 'tgU'], ['ITZM', 'ITZM', 'LnGi', 'dZJa', 'ITZM'], ['ITZM', 'tgU', 'Rv', 'zY#tE', 'tgU', 'OnJECH', 'Rv', 'tgU', 'iWgN'], ['Rv', 'tgU', 'tgU', 'tgU', 'LnGi'], ['tgU', 'Rv', 'tgU', 'WAcqG'], ['zY#tE', 'ITZM', 'JgwBu', 'LnGi', 'LnGi', 'LnGi'], ['JgwBu', 'tgU', 'LnGi', 'LnGi', 'LnGi', 'Rv', 'zY#tE'], ['Rv', 'Rv', 'ITZM', 'Rv', 'LnGi', 'tgU', 'ITZM'], ['JgwBu', 'OnJECH', 'OnJECH', 'tgU', 'tgU', 'iWgN', 'OnJECH', 'Rv'], ['iWgN', 'tgU', 'Rv'], ['WAcqG', 'tgU', 'iWgN', 'dZJa', 'ITZM', 'LnGi', 'LnGi', 'iWgN', 'ITZM', 'ITZM'], ['Rv', 'tgU', 'tgU', 'tgU', 'tgU', 'iWgN'], ['WAcqG', 'LnGi', 'dZJa', 'iWgN', 'ITZM', 'dZJa', 'ITZM', 'dZJa', 'JgwBu', 'ITZM'], ['ITZM', 'tgU', 'iWgN', 'OnJECH', 'ITZM'], ['dZJa', 'JgwBu', 'tgU', 'WAcqG', 'tgU', 'Rv'], ['tgU', 'tgU', 'dZJa', 'tgU', 'iWgN', 'iWgN', 'Rv', 'tgU', 'WAcqG'], ['Rv', 'dZJa', 'JgwBu', 'OnJECH', 'Rv', 'WAcqG', 'tgU', 'OnJECH', 'JgwBu', 'dZJa'], ['tgU', 'Rv', 'WAcqG', 'OnJECH', 'tgU', 'ITZM', 'LnGi', 'zY#tE', 'tgU'], ['dZJa', 'tgU', 'zY#tE', 'LnGi', 'tgU', 'Rv', 'tgU', 'tgU', 'zY#tE', 'ITZM'], ['ITZM', 'tgU', 'dZJa', 'tgU', 'tgU', 'WAcqG'], ['Rv', 'tgU', 'Rv', 'iWgN', 'tgU', 'JgwBu'], ['ITZM', 'OnJECH', 'tgU', 'dZJa', 'zY#tE'], ['dZJa', 'OnJECH'], ['tgU', 'iWgN', 'tgU'], ['tgU', 'Rv', 'OnJECH'], ['ITZM', 'Rv', 'ITZM', 'Rv'], ['LnGi', 'tgU', 'LnGi', 'ITZM', 'tgU', 'ITZM', 'tgU', 'tgU'], ['ITZM', 'dZJa', 'Rv', 'tgU', 'iWgN'], ['OnJECH', 'ITZM', 'WAcqG', 'tgU', 'tgU'], ['JgwBu', 'tgU', 'ITZM', 'ITZM', 'zY#tE', 'Rv'], ['ITZM', 'WAcqG'], ['ITZM', 'ITZM', 'dZJa', 'LnGi', 'iWgN', 'Rv', 'JgwBu', 'zY#tE', 'OnJECH', 'ITZM'], ['OnJECH', 'OnJECH', 'Rv', 'Rv', 'tgU', 'ITZM', 'Rv', 'ITZM', 'zY#tE', 'JgwBu'], ['WAcqG', 'WAcqG', 'tgU', 'OnJECH', 'tgU', 'ITZM', 'tgU', 'ITZM'], ['WAcqG', 'LnGi'], ['Rv', 'iWgN', 'JgwBu'], ['OnJECH', 'tgU', 'tgU', 'iWgN', 'dZJa', 'ITZM', 'JgwBu', 'zY#tE'], ['ITZM', 'WAcqG', 'tgU', 'LnGi', 'Rv', 'WAcqG'], ['OnJECH', 'tgU', 'tgU'], ['tgU', 'ITZM', 'iWgN', 'LnGi', 'OnJECH', 'LnGi', 'iWgN'], ['Rv', 'LnGi', 'tgU', 'LnGi', 'tgU'], ['ITZM', 'LnGi', 'tgU', 'dZJa', 'iWgN', 'Rv', 'Rv', 'JgwBu', 'LnGi', 'tgU'], ['Rv', 'WAcqG', 'iWgN', 'ITZM', 'dZJa', 'tgU'], ['Rv', 'Rv', 'Rv', 'tgU', 'iWgN'], ['tgU', 'tgU', 'ITZM', 'zY#tE', 'tgU'], ['iWgN', 'ITZM', 'tgU'], ['WAcqG', 'tgU', 'Rv', 'iWgN', 'tgU', 'WAcqG', 'LnGi', 'Rv', 'Rv', 'tgU'], ['tgU', 'ITZM', 'WAcqG', 'OnJECH', 'JgwBu', 'iWgN'], ['tgU', 'dZJa', 'LnGi', 'tgU', 'dZJa', 'tgU', 'zY#tE'], ['Rv', 'Rv', 'OnJECH', 'tgU', 'zY#tE'], ['OnJECH', 'WAcqG', 'iWgN', 'zY#tE', 'LnGi', 'zY#tE', 'dZJa'], ['tgU', 'tgU', 'JgwBu', 'zY#tE', 'zY#tE', 'tgU', 'tgU', 'Rv', 'tgU'], ['tgU', 'OnJECH', 'LnGi', 'tgU', 'iWgN', 'ITZM'], ['Rv', 'Rv', 'iWgN', 'Rv'], ['iWgN', 'tgU', 'tgU', 'iWgN'], ['tgU', 'LnGi'], ['WAcqG', 'tgU', 'LnGi', 'LnGi', 'tgU', 'tgU', 'tgU', 'Rv', 'tgU', 'LnGi'], ['Rv', 'iWgN', 'JgwBu', 'zY#tE', 'JgwBu', 'tgU', 'Rv', 'tgU', 'Rv', 'tgU'], ['tgU', 'iWgN', 'JgwBu', 'zY#tE', 'dZJa', 'LnGi', 'Rv'], ['tgU', 'zY#tE', 'tgU', 'JgwBu', 'tgU', 'iWgN', 'Rv'], ['WAcqG', 'tgU'], ['tgU', 'iWgN', 'ITZM', 'tgU'], ['ITZM', 'Rv', 'Rv', 'WAcqG', 'OnJECH', 'Rv', 'tgU', 'OnJECH'], ['tgU', 'ITZM', 'JgwBu', 'tgU'], ['WAcqG', 'ITZM', 'iWgN', 'Rv'], ['ITZM', 'Rv', 'iWgN', 'iWgN', 'tgU', 'WAcqG', 'ITZM', 'ITZM', 'Rv', 'LnGi'], ['tgU', 'LnGi', 'Rv'], ['WAcqG', 'Rv', 'iWgN', 'iWgN'], ['zY#tE', 'tgU', 'iWgN', 'Rv', 'iWgN'], ['iWgN', 'OnJECH', 'LnGi', 'dZJa', 'Rv', 'Rv', 'ITZM', 'tgU', 'ITZM'], ['tgU', 'LnGi', 'JgwBu', 'iWgN', 'zY#tE'], ['Rv', 'tgU', 'ITZM', 'WAcqG', 'tgU'], ['Rv', 'JgwBu', 'ITZM', 'Rv'], ['tgU', 'zY#tE', 'WAcqG', 'Rv', 'Rv'], ['ITZM', 'Rv', 'iWgN', 'iWgN', 'ITZM', 'iWgN', 'iWgN', 'WAcqG'], ['zY#tE', 'OnJECH', 'tgU', 'LnGi', 'OnJECH', 'LnGi', 'tgU'], ['tgU', 'Rv', 'Rv', 'ITZM'], ['tgU', 'zY#tE', 'tgU', 'LnGi', 'OnJECH', 'Rv', 'Rv', 'LnGi', 'tgU'], ['tgU', 'tgU', 'ITZM'], ['tgU', 'Rv'], ['ITZM', 'iWgN', 'tgU', 'tgU', 'Rv', 'tgU', 'Rv', 'dZJa', 'tgU', 'tgU'], ['ITZM', 'tgU', 'tgU', 'tgU', 'WAcqG', 'tgU', 'ITZM'], ['OnJECH', 'tgU', 'ITZM', 'Rv', 'tgU', 'Rv', 'ITZM', 'Rv', 'tgU'], ['Rv', 'tgU', 'zY#tE', 'JgwBu', 'ITZM', 'Rv', 'WAcqG', 'JgwBu', 'LnGi'], ['zY#tE', 'tgU', 'iWgN', 'tgU', 'ITZM', 'JgwBu'], ['tgU', 'tgU'], ['tgU', 'iWgN', 'dZJa', 'Rv', 'tgU'], ['tgU', 'Rv', 'Rv', 'ITZM', 'tgU', 'tgU', 'Rv', 'WAcqG', 'tgU', 'tgU'], ['LnGi', 'tgU', 'WAcqG', 'ITZM'], ['Rv', 'tgU', 'tgU', 'ITZM', 'iWgN', 'tgU', 'OnJECH', 'tgU', 'ITZM'], ['LnGi', 'ITZM', 'WAcqG', 'OnJECH', 'ITZM', 'tgU', 'LnGi', 'dZJa', 'OnJECH'], ['iWgN', 'iWgN', 'tgU', 'Rv', 'ITZM', 'tgU', 'zY#tE', 'tgU', 'ITZM', 'tgU'], ['WAcqG', 'iWgN', 'iWgN', 'dZJa', 'tgU', 'iWgN', 'iWgN'], ['JgwBu', 'tgU', 'tgU'], ['zY#tE', 'tgU', 'iWgN', 'tgU', 'iWgN', 'Rv'], ['LnGi', 'iWgN', 'tgU', 'tgU'], ['OnJECH', 'tgU', 'iWgN', 'tgU', 'tgU', 'tgU', 'Rv', 'Rv'], ['tgU', 'tgU', 'Rv', 'WAcqG', 'tgU'], ['ITZM', 'Rv', 'LnGi', 'dZJa', 'tgU', 'JgwBu', 'zY#tE'], ['WAcqG', 'tgU', 'Rv', 'WAcqG', 'zY#tE', 'tgU'], ['ITZM', 'LnGi', 'OnJECH', 'zY#tE', 'tgU', 'tgU', 'ITZM', 'tgU'], ['LnGi', 'JgwBu'], ['tgU', 'ITZM', 'ITZM', 'tgU', 'OnJECH'], ['tgU', 'iWgN'], ['ITZM', 'tgU', 'LnGi', 'tgU', 'Rv', 'dZJa', 'zY#tE'], ['OnJECH', 'Rv', 'Rv', 'Rv', 'iWgN'], ['tgU', 'tgU', 'ITZM', 'iWgN', 'iWgN', 'iWgN', 'tgU'], ['zY#tE', 'tgU', 'LnGi', 'zY#tE', 'tgU', 'Rv', 'ITZM', 'tgU', 'zY#tE'], ['JgwBu', 'iWgN', 'ITZM', 'ITZM', 'tgU'], ['tgU', 'Rv', 'Rv', 'tgU', 'tgU', 'OnJECH'], ['tgU', 'LnGi', 'Rv', 'tgU', 'tgU', 'WAcqG', 'tgU'], ['ITZM', 'OnJECH', 'LnGi', 'ITZM'], ['LnGi', 'tgU', 'tgU', 'dZJa', 'WAcqG', 'WAcqG'], ['zY#tE', 'zY#tE'], ['LnGi', 'ITZM', 'ITZM', 'Rv', 'Rv', 'LnGi', 'tgU'], ['tgU', 'tgU', 'WAcqG', 'tgU', 'zY#tE', 'tgU', 'OnJECH', 'tgU', 'Rv', 'ITZM'], ['tgU', 'tgU'], ['zY#tE', 'WAcqG', 'OnJECH', 'ITZM'], ['Rv', 'iWgN', 'WAcqG', 'JgwBu', 'Rv', 'tgU', 'Rv'], ['WAcqG', 'WAcqG'], ['Rv', 'ITZM', 'LnGi', 'WAcqG', 'iWgN', 'WAcqG', 'Rv', 'tgU', 'tgU'], ['zY#tE', 'ITZM'], ['tgU', 'ITZM'], ['Rv', 'tgU', 'tgU', 'iWgN', 'Rv'], ['ITZM', 'OnJECH'], ['WAcqG', 'Rv'], ['Rv', 'ITZM', 'iWgN', 'Rv', 'ITZM'], ['zY#tE', 'LnGi', 'JgwBu', 'tgU', 'Rv', 'iWgN', 'ITZM'], ['Rv', 'ITZM', 'LnGi'], ['LnGi', 'zY#tE'], ['Rv', 'tgU', 'Rv', 'tgU', 'iWgN', 'ITZM', 'ITZM'], ['ITZM', 'ITZM', 'LnGi', 'tgU', 'tgU', 'LnGi', 'Rv', 'tgU'], ['ITZM', 'dZJa', 'ITZM', 'zY#tE'], ['Rv', 'tgU', 'JgwBu', 'zY#tE', 'ITZM'], ['ITZM', 'tgU', 'tgU', 'LnGi', 'LnGi', 'WAcqG', 'zY#tE', 'iWgN', 'tgU'], ['tgU', 'JgwBu', 'iWgN', 'zY#tE', 'ITZM', 'Rv', 'tgU', 'zY#tE'], ['ITZM', 'Rv', 'tgU', 'iWgN'], ['tgU', 'ITZM', 'dZJa', 'iWgN', 'tgU', 'tgU', 'WAcqG'], ['iWgN', 'ITZM', 'tgU', 'ITZM', 'iWgN', 'WAcqG'], ['zY#tE', 'JgwBu', 'Rv', 'tgU'], ['WAcqG', 'tgU', 'WAcqG', 'tgU', 'tgU', 'ITZM', 'tgU'], ['LnGi', 'tgU', 'dZJa', 'Rv', 'zY#tE', 'tgU', 'OnJECH', 'LnGi'], ['Rv', 'Rv', 'JgwBu', 'zY#tE', 'tgU', 'tgU', 'Rv', 'tgU'], ['Rv', 'tgU'], ['tgU', 'dZJa', 'WAcqG', 'dZJa', 'LnGi', 'ITZM', 'Rv', 'tgU'], ['tgU', 'tgU', 'Rv', 'JgwBu', 'dZJa', 'ITZM'], ['Rv', 'LnGi', 'tgU', 'JgwBu', 'WAcqG', 'Rv', 'tgU', 'dZJa', 'WAcqG', 'iWgN'], ['LnGi', 'dZJa', 'Rv', 'ITZM', 'tgU', 'Rv', 'OnJECH', 'ITZM', 'ITZM', 'OnJECH'], ['Rv', 'tgU', 'Rv', 'tgU', 'iWgN', 'Rv', 'JgwBu', 'ITZM', 'Rv'], ['Rv', 'Rv'], ['tgU', 'ITZM', 'ITZM'], ['LnGi', 'WAcqG', 'tgU', 'tgU', 'OnJECH', 'JgwBu', 'WAcqG', 'Rv'], ['zY#tE', 'ITZM', 'LnGi', 'tgU', 'Rv', 'dZJa', 'tgU', 'tgU'], ['iWgN', 'tgU', 'ITZM', 'ITZM'], ['iWgN', 'Rv']]\n",
      "[-1, 1, -1, 1, -1, -1, 1, -1, -1, -1, -1, -1, 1, 1, -1, -1, 1, -1, 1, -1, -1, -1, -1, -1, 1, 1, 1, -1, -1, -1, -1, -1, 1, -1, -1, -1, -1, -1, -1, -1, 1, 1, -1, -1, -1, -1, -1, -1, 1, 1, 1, -1, 1, -1, 1, -1, -1, 1, 1, -1, -1, -1, -1, -1, 1, -1, -1, -1, -1, -1, -1, -1, -1, -1, -1, -1, -1, -1, -1, -1, 1, -1, -1, -1, -1, -1, 1, -1, 1, -1, -1, -1, -1, -1, -1, -1, 1, -1, -1, 1, 1, -1, -1, -1, 1, -1, -1, -1, -1, -1, -1, 1, 1, -1, -1, 1, -1, -1, -1, -1, -1, 1, -1, -1, -1, 1, 1, -1, -1, 1, -1, -1, 1, 1, 1, -1, -1, 1, -1, -1, 1, -1, 1, -1, 1, -1, 1, 1, -1, 1, 1, -1, -1, 1, -1, -1, 1, 1, -1, -1, -1, 1, -1, 1, -1, 1, -1, -1, -1, 1, 1, -1, -1, 1, -1, 1, -1, 1, -1, 1, 1, -1, -1, 1, 1, -1, -1, -1, 1, -1, 1, -1, -1, -1, 1, -1, -1, -1, -1, -1, -1, 1, -1, -1, -1, -1, -1, -1, -1, -1, -1, 1, -1, -1, -1, -1, -1, -1, -1, 1, 1, -1, -1, 1, -1, -1, -1, -1, -1, 1, 1, 1, -1, 1, -1, 1, -1, 1, -1, -1, 1, 1, -1, -1, -1, -1, 1, 1, -1, -1, -1, -1, -1, -1, -1, -1, 1, -1, 1, 1, -1, -1, -1, 1, 1, -1, -1, -1, 1, -1, 1, 1, -1, -1, 1, -1, -1, 1, -1, 1, -1, -1, -1, 1, -1, 1, 1, -1, -1, -1, -1, -1, -1, -1, -1, -1, -1, -1, -1, 1, -1, -1, 1, 1, 1, 1, -1, -1, 1, 1, -1, -1, -1, 1, -1, 1, -1, -1, -1, -1, -1, 1, 1, -1, -1, 1, -1, -1, -1, -1, -1, -1, -1, 1, 1, -1, 1, 1, -1, -1, 1, -1, -1, -1, 1, -1, 1, -1, 1, -1, 1, -1, -1, 1, 1, -1, -1, 1, -1, 1, -1, -1, -1, -1, -1, -1, -1, -1, -1, -1, -1, -1, -1, -1, -1, 1, -1, -1, 1, -1, 1, -1, 1, -1, -1, -1, 1, -1, 1, -1, 1, -1, 1, 1, 1, -1, -1, -1, -1, 1, 1, -1, -1, -1, 1, -1, -1, -1, 1, 1, -1, -1, 1, -1, -1, -1, -1, -1, 1, 1, -1, 1, -1, -1, -1, 1, -1, 1, 1, 1, -1, -1, 1, -1, -1, -1, -1, -1, -1, 1, -1, 1, -1, -1, -1, -1, 1, 1, -1, 1, -1, 1, -1, -1, 1, -1, -1, -1, -1, -1, -1, 1, -1, -1, -1, -1, 1, -1, -1, 1, -1, -1, -1, -1, 1, -1, 1, -1, -1, -1, 1, -1, -1, -1, -1, -1, -1, -1, -1, -1, 1, -1, 1, -1, 1, -1, 1, -1, -1, -1, -1, 1, -1, -1, -1, -1, -1, -1, 1, -1, -1, -1, -1, -1, -1, -1, -1, 1, -1, 1, -1, -1, 1, -1, -1, -1, 1, -1, -1, -1, 1, -1, 1, -1, -1, 1, 1, -1, -1, -1, 1, -1, -1, -1, -1, -1, -1, -1, -1, -1, -1, -1, -1, 1, -1, -1, -1, -1, -1, -1, -1, -1, -1, -1, 1, -1, -1, -1, -1, 1, -1, -1, 1, -1, 1, -1, -1, 1, -1, -1, -1, 1, -1, 1, -1, 1, -1, -1, -1, 1, -1, 1, -1, 1, 1, -1, 1, 1, -1, -1, 1, -1, 1, -1, -1, 1, -1, 1, -1, -1, -1, 1, -1, -1, -1, -1, -1, -1, -1, -1, -1, 1, -1, 1, 1, 1, -1, -1, -1, -1, -1, -1, -1, -1, 1, 1, -1, 1, -1, -1, -1, -1, -1, -1, -1, -1, 1, 1, -1, -1, -1, 1, -1, -1, -1, 1, -1, -1, -1, -1, -1, -1, 1, -1, 1, 1, -1, 1, -1, 1, -1, -1, -1, -1, -1, 1, 1, 1, -1, 1, -1, 1, 1, 1, -1, -1, -1, 1, -1, 1, -1, -1, 1, -1, 1, -1, -1, -1, -1, -1, 1, -1, 1, -1, -1, 1, -1, 1, -1, -1, -1, 1, 1, -1, -1, -1, -1, -1, -1, 1, -1, 1, -1, -1, 1, 1, -1, 1, -1, 1, -1, -1, -1, -1, 1, -1, 1, 1, -1, 1, -1, 1, -1, 1, -1, -1, -1, -1, -1, -1, -1, -1, -1, -1, 1, -1, -1, -1, 1, 1, 1, -1, 1, 1, 1, -1, -1, -1, 1, -1, 1, -1, -1, -1, -1, -1, -1, -1, -1, -1, -1, -1, -1, -1, 1, 1, -1, -1, -1, 1, -1, -1, 1, 1, 1, -1, -1, 1, -1, 1, -1, -1, 1, -1, -1, 1, -1, -1, -1, -1, -1, 1, 1, 1, 1, 1, -1, -1, -1, -1, 1, -1, -1, 1, -1, 1, -1, -1, -1, 1, 1, -1, -1, -1, -1, -1, -1, 1, -1, -1, -1, 1, 1, 1, -1, -1, -1, 1, -1, -1, -1, -1, -1, -1, -1, 1, 1, 1, -1, 1, 1, 1, 1, 1, 1, -1, -1, -1, -1, -1, -1, 1, -1, 1, -1, -1, 1, 1, 1, -1, -1, 1, 1, -1, -1, -1, -1, 1, -1, 1, -1, 1, -1, 1, -1, -1, 1, -1, -1, -1, -1, 1, -1, -1, -1, -1, -1, 1, -1, -1, 1, -1, -1, -1, 1, -1, 1, -1, -1, -1, -1, -1, 1, -1, -1, 1, 1, 1, -1, -1, -1, -1, 1, -1, 1, 1, 1, -1, -1, -1, -1, 1, 1, -1, 1, 1, -1, 1, -1, -1, -1, 1, 1, -1, 1, 1, -1, 1, -1, -1, 1, -1, -1, -1, -1, 1, -1, -1, -1, -1, -1, -1, -1, -1, -1, 1, 1, -1, -1, 1, -1, -1, 1, 1, -1, 1, -1, -1, -1, 1, -1, 1, 1, -1, -1, -1, 1, 1, -1, -1]\n",
      "Example document from training set:\n",
      "['WAcqG', 'Rv', 'zY#tE', 'tgU', 'tgU', 'tgU']\n",
      "Example document from test set:\n",
      "['LnGi', 'LnGi', 'dZJa', 'Rv', 'Rv', 'ITZM']\n"
     ]
    }
   ],
   "source": [
    "import numpy as np  # Import NumPy library for array operations\n",
    "\n",
    "# Initialize lists to store documents and labels\n",
    "docs_train = []  # List to store training documents\n",
    "labels = []      # List to store labels for training documents\n",
    "\n",
    "# Read and process train.txt\n",
    "with open('train.txt', 'r') as file:  # Open train.txt file for reading\n",
    "    lines = file.readlines()  # Read all lines from the file\n",
    "    for i, line in enumerate(lines):  # Iterate over each line and its index\n",
    "        if i % 2 == 1:  # Odd lines contain document words (starting from index 1)\n",
    "            docs_train.append(line.strip().split(\" \"))  # Split words by space and append to docs_train\n",
    "        elif i > 0:  # Skip the first line which contains the number of documents\n",
    "            labels.append(int(line.strip()))  # Convert label to integer and append to labels list\n",
    "print(docs_train)\n",
    "print(labels)\n",
    "# Initialize list to store test documents\n",
    "docs_test = []  # List to store testing documents\n",
    "\n",
    "# Read and process test.txt\n",
    "with open('test.txt', 'r') as file:  # Open test.txt file for reading\n",
    "    lines = file.readlines()  # Read all lines from the file\n",
    "    for i, line in enumerate(lines):  # Iterate over each line and its index\n",
    "        if i > 0:  #Skip the first line which contains the number of documents\n",
    "            docs_test.append(line.strip().split(\" \"))  # Split words by space and append to docs_test\n",
    "\n",
    "# Compute lengths of train and test sets\n",
    "n_train = len(docs_train)  # Number of documents in the training set\n",
    "n_test = len(docs_test)    # Number of documents in the testing set\n",
    "# Print example documents\n",
    "print(\"Example document from training set:\")\n",
    "print(docs_train[40])  # Print the 41st document from the training set (indexing starts from 0)\n",
    "print(\"Example document from test set:\")\n",
    "print(docs_test[40])   # Print the 41st document from the testing set (indexing starts from 0)\n",
    "\n",
    "# CHECKS\n",
    "assert((n_train + n_test) == 1500)  # Check if total number of documents is equal to 1500\n",
    "assert(np.sum(np.array(labels)) == -348)  # Check if sum of labels is equal to -348\n",
    "assert(len(docs_train[1]) + len(docs_test[1]) == 12)  # Check if length of second document in both sets is equal to 12\n"
   ]
  },
  {
   "cell_type": "code",
   "execution_count": 129,
   "metadata": {},
   "outputs": [
    {
     "name": "stdout",
     "output_type": "stream",
     "text": [
      "['ITZM', 'JgwBu', 'LnGi', 'OnJECH', 'Rv', 'WAcqG', 'dZJa', 'iWgN', 'tgU', 'zY#tE']\n",
      "{'ITZM': 0, 'JgwBu': 1, 'LnGi': 2, 'OnJECH': 3, 'Rv': 4, 'WAcqG': 5, 'dZJa': 6, 'iWgN': 7, 'tgU': 8, 'zY#tE': 9}\n"
     ]
    }
   ],
   "source": [
    "def make_vocabulary(docs):\n",
    "    lst=[]\n",
    "    for i in docs:\n",
    "        for j in i:\n",
    "            if not(j in lst):\n",
    "                lst.append(j)\n",
    "    # Sort the set of unique words and return the sorted list\n",
    "    return sorted(lst)      \n",
    "\n",
    "# Call the make_vocabulary function with the training documents\n",
    "vocab = make_vocabulary(docs_train)\n",
    "\n",
    "# Compute the size of the vocabulary (number of unique words)\n",
    "d = len(vocab)\n",
    "\n",
    "# Create a dictionary that maps each word in the vocabulary to its index (position) in the list\n",
    "w2i = {word: i for i, word in enumerate(vocab)}\n",
    "\n",
    "# Print the sorted list of unique words in the vocabulary\n",
    "print(vocab)\n",
    "\n",
    "# Print the word-to-index dictionary\n",
    "print(w2i)\n"
   ]
  },
  {
   "cell_type": "code",
   "execution_count": 130,
   "metadata": {},
   "outputs": [
    {
     "name": "stdout",
     "output_type": "stream",
     "text": [
      "First 5 rows of X_train: \n",
      "[[0. 0. 0. 0. 1. 0. 0. 0. 1. 1. 1.]\n",
      " [3. 0. 0. 0. 1. 0. 2. 0. 2. 0. 1.]\n",
      " [0. 0. 0. 0. 0. 0. 0. 0. 2. 0. 1.]\n",
      " [1. 1. 0. 0. 0. 1. 0. 1. 3. 2. 1.]\n",
      " [1. 0. 0. 1. 2. 0. 2. 0. 1. 0. 1.]]\n",
      "Last 5 rows of X_test: \n",
      "[[1. 0. 0. 0. 1. 0. 1. 0. 3. 0. 1.]\n",
      " [0. 0. 0. 0. 0. 0. 1. 0. 3. 0. 1.]\n",
      " [0. 0. 1. 0. 2. 1. 0. 0. 3. 0. 1.]\n",
      " [0. 1. 0. 1. 4. 0. 0. 2. 2. 0. 1.]\n",
      " [2. 1. 0. 1. 0. 0. 0. 2. 1. 0. 1.]]\n",
      "First 10 labels of training set:\n",
      "[-1, 1, -1, 1, -1, -1, 1, -1, -1, -1]\n"
     ]
    }
   ],
   "source": [
    "def make_matrix(docs, w2i):\n",
    "    n = len(docs)\n",
    "    d = len(w2i)\n",
    "    matrix = np.zeros((n,d+1))\n",
    "    matrix[:, -1] = 1  \n",
    "    for i in range(n):\n",
    "        dic = {}\n",
    "        for j in docs[i]:\n",
    "            if j in dic:\n",
    "                dic[j] += 1\n",
    "            else:\n",
    "                dic[j] = 1\n",
    "            # Update the corresponding entry in the matrix with the word frequency\n",
    "            matrix[i][w2i[j]] = dic[j]\n",
    "    return matrix\n",
    "X_train = make_matrix(docs_train, w2i)  # Create the matrix X_train for the training set\n",
    "X_test = make_matrix(docs_test, w2i)    # Create the matrix X_test for the test set\n",
    "y_train = np.array(labels)              # Convert the labels list to a numpy array for training set\n",
    "\n",
    "# Print the requested information for (ACT6-8)\n",
    "print(\"First 5 rows of X_train: \")\n",
    "print(X_train[:5])         # Print the first 5 rows of X_train\n",
    "print(\"Last 5 rows of X_test: \")\n",
    "print(X_test[-5:])         # Print the last 5 rows of X_test\n",
    "print(\"First 10 labels of training set:\")\n",
    "print(labels[:10])         # Print the first 10 labels of the training set\n"
   ]
  },
  {
   "cell_type": "markdown",
   "metadata": {},
   "source": [
    "## Linear Predictor\n",
    "\n",
    "Let $\\mathbf{w} \\in \\mathbb{R}^{d+1}$, for a single document $\\mathbf{x} \\in \\mathbb{R}^{d+1}$, our predicted label is\n",
    "$$\n",
    "    \\mathsf{\\hat{y} = \\mathrm{sign}({\\mathbf{w} \\cdot \\mathbf{y}})}\n",
    "$$\n",
    "where \n",
    "$$\n",
    "    \\displaystyle  \\mathrm{sign}(\\alpha) = \\begin{cases} \n",
    "      +1 & \\alpha \\geq 0 \\\\\n",
    "      -1 & \\alpha < 0 \\\\\n",
    "    \\end{cases}\n",
    "$$\n",
    "\n",
    "Therefore, for documents matrix $X \\in \\mathbb{R}^{n\\times(d+1)}$ we predict labels $\\hat{\\mathbf{y}} \\in \\{-1,+1\\}^n$\n",
    "$$\n",
    "    \\hat{\\mathbf{y}} = \\mathrm{sign}(X\\mathbf{w})\n",
    "$$\n",
    "where $\\mathrm{sign()}$ here is defined to elementwise applying the sign we defined previously.\n",
    "\n",
    "The error of our prediction over $X$ with true labels $\\mathbf{y}$, is defined to be\n",
    "$$\n",
    "    \\mathsf{\\mathrm{error}=\\frac{1}{n}\\sum_{i=1}^{n}\\ell_{01}(y_i,\\hat{y}_i)}\n",
    "$$\n",
    "where $\\displaystyle \\mathsf{ \\ell_{01}(y,\\hat{y})= \\begin{cases} 1 & y\\neq\\hat{y} \\\\ 0 & \\text{otherwise}\\end{cases} }$"
   ]
  },
  {
   "cell_type": "code",
   "execution_count": 131,
   "metadata": {},
   "outputs": [],
   "source": [
    "def err(y, y_hat):\n",
    "    error = 0\n",
    "    n = len(y)\n",
    "    for i in range(n):\n",
    "        if y[i] != y_hat[i]:\n",
    "            error += 1\n",
    "        error_rate = error/n\n",
    "    return error_rate\n",
    "# CHECKS\n",
    "assert(err([-1, +1, -1, +1], [+1, +1, +1, -1]) == 0.75)\n",
    "assert(err([+1, +1, +1, +1], [+1, +1, +1, -1]) == 0.25)\n",
    "assert(err([-1, -1, -1, +1], [+1, +1, +1, -1]) == 1)\n"
   ]
  },
  {
   "cell_type": "code",
   "execution_count": 132,
   "metadata": {},
   "outputs": [],
   "source": [
    "def predict(X, w):\n",
    "    # Perform matrix multiplication\n",
    "    lst = []\n",
    "    predictions = X.dot(w)\n",
    "    for i in predictions:\n",
    "        if i >= 0:\n",
    "            lst.append(1)\n",
    "        else:\n",
    "            lst.append(-1)\n",
    "    return np.array(lst)\n",
    "# CHECKS\n",
    "assert np.sum(predict(X_train, np.ones(d+1).reshape(-1, 1)).reshape(-1, 1)) == n_train\n"
   ]
  },
  {
   "cell_type": "markdown",
   "metadata": {},
   "source": [
    "### Candidate list for $\\mathbf{w}$\n",
    "we give you a small candidates list `candids` of $\\mathbf{w}$'s. We want you to find $\\mathbf{w}^*$ in this list which gives you the smallest error over **training set**."
   ]
  },
  {
   "cell_type": "code",
   "execution_count": 133,
   "metadata": {},
   "outputs": [
    {
     "name": "stdout",
     "output_type": "stream",
     "text": [
      "size of candidates lists 10\n",
      "[[ 0.24771893]\n",
      " [ 0.0797402 ]\n",
      " [ 0.06736309]\n",
      " [ 0.12221225]\n",
      " [ 0.00692924]\n",
      " [ 0.30678176]\n",
      " [ 0.1730867 ]\n",
      " [ 0.02923004]\n",
      " [ 0.33520645]\n",
      " [ 0.06869451]\n",
      " [-0.8189899 ]]\n"
     ]
    }
   ],
   "source": [
    "# Loading candidates list candids = [w0,w1,...]\n",
    "import pickle\n",
    "with open('candids.pkl', 'rb') as f:\n",
    "    candids = pickle.load(f)\n",
    "print(\"size of candidates lists %d\"%len(candids))\n",
    "print(candids[0])"
   ]
  },
  {
   "cell_type": "code",
   "execution_count": 134,
   "metadata": {},
   "outputs": [
    {
     "name": "stdout",
     "output_type": "stream",
     "text": [
      "Training Error of candidates:\n",
      "Candidate # 0 has error 0.252\n",
      "Candidate # 1 has error 0.273\n",
      "Candidate # 2 has error 0.0\n",
      "Candidate # 3 has error 0.285\n",
      "Candidate # 4 has error 0.29\n",
      "Candidate # 5 has error 0.327\n",
      "Candidate # 6 has error 0.18\n",
      "Candidate # 7 has error 0.265\n",
      "Candidate # 8 has error 0.223\n",
      "Candidate # 9 has error 0.206\n",
      "Index of best predictor: 2\n",
      "Best Predictor:\n",
      "[[ 0.22045993]\n",
      " [ 0.        ]\n",
      " [ 0.        ]\n",
      " [ 0.11585252]\n",
      " [ 0.        ]\n",
      " [ 0.28635182]\n",
      " [ 0.14144608]\n",
      " [ 0.        ]\n",
      " [ 0.25414682]\n",
      " [ 0.        ]\n",
      " [-0.87828279]]\n"
     ]
    }
   ],
   "source": [
    "# (ACT11) fill err_list with training error of each candidate w\n",
    "err_list = []  \n",
    "for i in range(len(candids)):  \n",
    "    y_pred = predict(X_train, candids[i])  \n",
    "    e = err(y_train, y_pred)  # Compute the training error using the true labels and predicted labels\n",
    "    err_list.append(e)  \n",
    "\n",
    "# (ACT12) index of w with smallest error over training set \n",
    "best_index = np.argmin(err_list)  \n",
    "\n",
    "# Print the training errors of candidates\n",
    "print(\"Training Error of candidates:\")\n",
    "for i, err in enumerate(err_list):\n",
    "    print(f\"Candidate # {i} has error {err}\")\n",
    "\n",
    "# Print the index of the best predictor and the best predictor itself\n",
    "print(\"Index of best predictor:\", best_index)\n",
    "print(\"Best Predictor:\")\n",
    "print(candids[best_index])\n",
    "\n",
    "#CHECKS\n",
    "assert(np.sum(err_list) <= 2.5)  # Perform checks on the sum of training errors\n"
   ]
  },
  {
   "cell_type": "code",
   "execution_count": 135,
   "metadata": {},
   "outputs": [
    {
     "name": "stdout",
     "output_type": "stream",
     "text": [
      "[ 1 -1  1 -1 -1 -1 -1 -1 -1 -1]\n"
     ]
    }
   ],
   "source": [
    "# Best predictor\n",
    "w_best = candids[best_index]\n",
    "# Use w_best to predict labels for X_test\n",
    "y_test = predict(X_test, w_best)\n",
    "\n",
    "# Print first 10 predicted labels for test set\n",
    "print(y_test[:10])\n",
    "\n",
    "# CHECKS\n",
    "def my_hash(y):\n",
    "    p1 = 28433\n",
    "    p2 = 577\n",
    "    ret = 0\n",
    "    for e in range(len(y)):\n",
    "        ret = ((ret*p2+int(e)) % p1 + p1) % p1\n",
    "    return ret\n",
    "\n",
    "assert(my_hash(y_test) == 19262)\n"
   ]
  },
  {
   "cell_type": "markdown",
   "metadata": {},
   "source": [
    "## Frequency of words"
   ]
  },
  {
   "cell_type": "code",
   "execution_count": 136,
   "metadata": {},
   "outputs": [
    {
     "data": {
      "image/png": "[encoded data removed]",
      "text/plain": [
       "<Figure size 1200x400 with 2 Axes>"
      ]
     },
     "metadata": {},
     "output_type": "display_data"
    }
   ],
   "source": [
    "import matplotlib.pyplot as plt\n",
    "def X_freq(data,w2i):\n",
    "    freq = []\n",
    "    \n",
    "    for i in range(len(word_val)):\n",
    "        count = 0\n",
    "        for j in range(len(data)):\n",
    "\n",
    "            count += data[j][i] \n",
    "        freq.append(count)\n",
    "    return freq    \n",
    "\n",
    "word_val = w2i.values()        \n",
    "\n",
    "fig, axs = plt.subplots(1, 2, figsize=(12, 4))\n",
    "\n",
    "########### X_train frequency plots ##########\n",
    "axs[1].bar(word_val,X_freq(X_test,word_val), color ='grey')\n",
    "axs[1].set_title(\"X_test Frequency\")\n",
    "axs[1].set_xlabel(\"words_index\")\n",
    "axs[1].set_ylabel(\"Frequency\")\n",
    "# plt.show()\n",
    "######## X_test frequency plots #########\n",
    "axs[0].bar(word_val,X_freq(X_train,word_val),color=\"black\")\n",
    "axs[0].set_title(\"X_train Frequency\")\n",
    "axs[0].set_xlabel(\"words_index\")\n",
    "axs[0].set_ylabel(\"Frequency\")\n",
    "\n",
    "plt.show()"
   ]
  }
 ],
 "metadata": {
  "kernelspec": {
   "display_name": "Python 3 (ipykernel)",
   "language": "python",
   "name": "python3"
  },
  "language_info": {
   "codemirror_mode": {
    "name": "ipython",
    "version": 3
   },
   "file_extension": ".py",
   "mimetype": "text/x-python",
   "name": "python",
   "nbconvert_exporter": "python",
   "pygments_lexer": "ipython3",
   "version": "3.9.13"
  },
  "pycharm": {
   "stem_cell": {
    "cell_type": "raw",
    "metadata": {
     "collapsed": false
    },
    "source": []
   }
  }
 },
 "nbformat": 4,
 "nbformat_minor": 1
}
