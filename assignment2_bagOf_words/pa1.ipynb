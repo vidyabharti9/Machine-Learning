{
 "cells": [
  {
   "cell_type": "markdown",
   "metadata": {
    "pycharm": {
     "name": "#%% md\n"
    }
   },
   "source": [
    "#  Assignment 1\n",
    "You are given $n$ documents (labels $\\in \\{-1,+1\\}$), each consisting of $n_i$ words from some finite vocabulary $\\mathsf{V=\\{v_1,v_2,\\dots,v_d\\}}$ with size $d$.\n",
    "We represent document $i$ by a vector \n",
    "$$\n",
    "    \\mathsf{\\mathbf{x_i} = \\begin{pmatrix} \\mathsf{x_{i1}, x_{i2},\\dots,x_{id},1 }\\end{pmatrix}}\n",
    "$$ where $x_{ij}=$ number of times that word $v_j$ appears in document $i$.\n",
    "Now let matrix $X$ of size $n$ by $d+1$ where its $i$-th row is equal to $\\mathbf{x_i}$; i.e.\n",
    "$$\n",
    "    \\mathsf{X = \\begin{pmatrix} \\mathsf{x_{ij}} \\end{pmatrix}_{i\\in[n],j\\in[d+1]}}\n",
    "$$\n",
    "also let vector $\\mathbf{y} \\in \\{-1,+1\\}^n$ be\n",
    "$$\n",
    "    \\mathbf{y}=\\begin{pmatrix} \\mathsf{y_1 \\\\\n",
    "                                   y_2 \\\\\n",
    "                                   \\dots \\\\\n",
    "                                   y_n}\n",
    "                                   \\end{pmatrix}\n",
    "$$\n",
    "wher $y_i$ is the label of document $i$.\n",
    "### Buidling $X$ and $\\mathbf{y}$\n",
    "You are given two text files\n",
    "1. `train.txt`: training set (labeled documents)\n",
    "2. `test.txt`: test set (unlabeled documents)\n",
    "\n",
    "in `train.txt`:\n",
    "- line $1$ is the number of documents in training set $n_{\\mathrm{train}}$ \n",
    "- line $2i$ contain words in document $i$ separated by space  ($i=1,2,\\dots,n_{\\mathrm{train}}$)\n",
    "- line $2i+1$ contain label for document $i$    ($i=1,2,\\dots,n_{\\mathrm{train}}$)\n",
    "\n",
    "in `test.txt`:\n",
    "- line $1$ is the number of documents in training set $n_{\\mathrm{test}}$ \n",
    "- line $i+1$ contain words in document $i$ separated by space  ($i=1,2,\\dots,n_{\\mathrm{test}}$)\n",
    "\n",
    "Now let's build $X_\\mathrm{train}$,$X_\\mathrm{test}$, and $\\mathbf{y}_{\\mathrm{train}}$ as defined above using `train.txt` and `test.txt`\n",
    "\n",
    "### IMPORTANT\n",
    "- Documents are numbered as they appear in the input file\n",
    "- let Vocabulary $V=(v_1,v_2,\\dots,v_d)$ be **sorted** list of all distinct word in the documents of **training** set."
   ]
  },
  {
   "cell_type": "code",
   "execution_count": 1,
   "metadata": {},
   "outputs": [
    {
     "name": "stdout",
     "output_type": "stream",
     "text": [
      "Example document from training set:\n",
      "['WAcqG', 'Rv', 'zY#tE', 'tgU', 'tgU', 'tgU']\n",
      "Example document from test set:\n",
      "['LnGi', 'LnGi', 'dZJa', 'Rv', 'Rv', 'ITZM']\n"
     ]
    }
   ],
   "source": [
    "import numpy as np  # Import NumPy library for array operations\n",
    "\n",
    "# Initialize lists to store documents and labels\n",
    "docs_train = []  # List to store training documents\n",
    "labels = []      # List to store labels for training documents\n",
    "\n",
    "# Read and process train.txt\n",
    "with open('train.txt', 'r') as file:\n",
    "    lines = file.readlines()\n",
    "    for i, line in enumerate(lines):  # Iterate over each line and its index\n",
    "        if i % 2 == 1:  \n",
    "            docs_train.append(line.strip().split(\" \"))  \n",
    "        elif i > 0:  # Skip the first line which contains the number of documents\n",
    "            labels.append(int(line.strip()))  # Convert label to integer and append to labels list\n",
    "\n",
    "\n",
    "docs_test = []  # List to store testing documents\n",
    "\n",
    "# Read and process test.txt\n",
    "with open('test.txt', 'r') as file:  \n",
    "    lines = file.readlines()  \n",
    "    for i, line in enumerate(lines):\n",
    "        if i > 0:  \n",
    "            docs_test.append(line.strip().split(\" \"))\n",
    "\n",
    "# Compute lengths of train and test sets\n",
    "n_train = len(docs_train)  \n",
    "n_test = len(docs_test)    \n",
    "# Print example documents\n",
    "print(\"Example document from training set:\")\n",
    "print(docs_train[40])\n",
    "print(\"Example document from test set:\")\n",
    "print(docs_test[40])\n",
    "# CHECKS\n",
    "assert((n_train + n_test) == 1500)  \n",
    "assert(np.sum(np.array(labels)) == -348)  \n",
    "assert(len(docs_train[1]) + len(docs_test[1]) == 12)\n"
   ]
  },
  {
   "cell_type": "code",
   "execution_count": 2,
   "metadata": {},
   "outputs": [
    {
     "name": "stdout",
     "output_type": "stream",
     "text": [
      "['ITZM', 'JgwBu', 'LnGi', 'OnJECH', 'Rv', 'WAcqG', 'dZJa', 'iWgN', 'tgU', 'zY#tE']\n",
      "{'ITZM': 0, 'JgwBu': 1, 'LnGi': 2, 'OnJECH': 3, 'Rv': 4, 'WAcqG': 5, 'dZJa': 6, 'iWgN': 7, 'tgU': 8, 'zY#tE': 9}\n"
     ]
    }
   ],
   "source": [
    "def make_vocabulary(docs):\n",
    "    lst=[]\n",
    "    for i in docs:\n",
    "        for j in i:\n",
    "            if not(j in lst):\n",
    "                lst.append(j)\n",
    "    # Sort the set of unique words and return the sorted list\n",
    "    return sorted(lst)      \n",
    "\n",
    "# Call the make_vocabulary function with the training documents\n",
    "vocab = make_vocabulary(docs_train)\n",
    "\n",
    "# Compute the size of the vocabulary (number of unique words)\n",
    "d = len(vocab)\n",
    "\n",
    "# Create a dictionary that maps each word in the vocabulary to its index (position) in the list\n",
    "w2i = {word: i for i, word in enumerate(vocab)}\n",
    "\n",
    "# Print the sorted list of unique words in the vocabulary\n",
    "print(vocab)\n",
    "\n",
    "# Print the word-to-index dictionary\n",
    "print(w2i)\n"
   ]
  },
  {
   "cell_type": "code",
   "execution_count": 3,
   "metadata": {},
   "outputs": [
    {
     "name": "stdout",
     "output_type": "stream",
     "text": [
      "First 5 rows of X_train: \n",
      "[[0. 0. 0. 0. 1. 0. 0. 0. 1. 1. 1.]\n",
      " [3. 0. 0. 0. 1. 0. 2. 0. 2. 0. 1.]\n",
      " [0. 0. 0. 0. 0. 0. 0. 0. 2. 0. 1.]\n",
      " [1. 1. 0. 0. 0. 1. 0. 1. 3. 2. 1.]\n",
      " [1. 0. 0. 1. 2. 0. 2. 0. 1. 0. 1.]]\n",
      "Last 5 rows of X_test: \n",
      "[[1. 0. 0. 0. 1. 0. 1. 0. 3. 0. 1.]\n",
      " [0. 0. 0. 0. 0. 0. 1. 0. 3. 0. 1.]\n",
      " [0. 0. 1. 0. 2. 1. 0. 0. 3. 0. 1.]\n",
      " [0. 1. 0. 1. 4. 0. 0. 2. 2. 0. 1.]\n",
      " [2. 1. 0. 1. 0. 0. 0. 2. 1. 0. 1.]]\n",
      "First 10 labels of training set:\n",
      "[-1, 1, -1, 1, -1, -1, 1, -1, -1, -1]\n"
     ]
    }
   ],
   "source": [
    "def make_matrix(docs, w2i):\n",
    "    n = len(docs)\n",
    "    d = len(w2i)\n",
    "    matrix = np.zeros((n,d+1))\n",
    "    matrix[:, -1] = 1  \n",
    "    for i in range(n):\n",
    "        dic = {}\n",
    "        for j in docs[i]:\n",
    "            if j in dic:\n",
    "                dic[j] += 1\n",
    "            else:\n",
    "                dic[j] = 1\n",
    "            # Update the corresponding entry in the matrix with the word frequency\n",
    "            matrix[i][w2i[j]] = dic[j]\n",
    "    return matrix\n",
    "X_train = make_matrix(docs_train, w2i)  # Create the matrix X_train for the training set\n",
    "X_test = make_matrix(docs_test, w2i)    # Create the matrix X_test for the test set\n",
    "y_train = np.array(labels)              # Convert the labels list to a numpy array for training set\n",
    "\n",
    "# Print the requested information for (ACT6-8)\n",
    "print(\"First 5 rows of X_train: \")\n",
    "print(X_train[:5])         # Print the first 5 rows of X_train\n",
    "print(\"Last 5 rows of X_test: \")\n",
    "print(X_test[-5:])         # Print the last 5 rows of X_test\n",
    "print(\"First 10 labels of training set:\")\n",
    "print(labels[:10])         # Print the first 10 labels of the training set\n"
   ]
  },
  {
   "cell_type": "markdown",
   "metadata": {},
   "source": [
    "## Linear Predictor\n",
    "\n",
    "Let $\\mathbf{w} \\in \\mathbb{R}^{d+1}$, for a single document $\\mathbf{x} \\in \\mathbb{R}^{d+1}$, our predicted label is\n",
    "$$\n",
    "    \\mathsf{\\hat{y} = \\mathrm{sign}({\\mathbf{w} \\cdot \\mathbf{y}})}\n",
    "$$\n",
    "where \n",
    "$$\n",
    "    \\displaystyle  \\mathrm{sign}(\\alpha) = \\begin{cases} \n",
    "      +1 & \\alpha \\geq 0 \\\\\n",
    "      -1 & \\alpha < 0 \\\\\n",
    "    \\end{cases}\n",
    "$$\n",
    "\n",
    "Therefore, for documents matrix $X \\in \\mathbb{R}^{n\\times(d+1)}$ we predict labels $\\hat{\\mathbf{y}} \\in \\{-1,+1\\}^n$\n",
    "$$\n",
    "    \\hat{\\mathbf{y}} = \\mathrm{sign}(X\\mathbf{w})\n",
    "$$\n",
    "where $\\mathrm{sign()}$ here is defined to elementwise applying the sign we defined previously.\n",
    "\n",
    "The error of our prediction over $X$ with true labels $\\mathbf{y}$, is defined to be\n",
    "$$\n",
    "    \\mathsf{\\mathrm{error}=\\frac{1}{n}\\sum_{i=1}^{n}\\ell_{01}(y_i,\\hat{y}_i)}\n",
    "$$\n",
    "where $\\displaystyle \\mathsf{ \\ell_{01}(y,\\hat{y})= \\begin{cases} 1 & y\\neq\\hat{y} \\\\ 0 & \\text{otherwise}\\end{cases} }$"
   ]
  },
  {
   "cell_type": "code",
   "execution_count": 131,
   "metadata": {},
   "outputs": [],
   "source": [
    "def err(y, y_hat):\n",
    "    error = 0\n",
    "    n = len(y)\n",
    "    for i in range(n):\n",
    "        if y[i] != y_hat[i]:\n",
    "            error += 1\n",
    "        error_rate = error/n\n",
    "    return error_rate\n",
    "# CHECKS\n",
    "assert(err([-1, +1, -1, +1], [+1, +1, +1, -1]) == 0.75)\n",
    "assert(err([+1, +1, +1, +1], [+1, +1, +1, -1]) == 0.25)\n",
    "assert(err([-1, -1, -1, +1], [+1, +1, +1, -1]) == 1)\n"
   ]
  },
  {
   "cell_type": "code",
   "execution_count": 132,
   "metadata": {},
   "outputs": [],
   "source": [
    "def predict(X, w):\n",
    "    # Perform matrix multiplication\n",
    "    lst = []\n",
    "    predictions = X.dot(w)\n",
    "    for i in predictions:\n",
    "        if i >= 0:\n",
    "            lst.append(1)\n",
    "        else:\n",
    "            lst.append(-1)\n",
    "    return np.array(lst)\n",
    "# CHECKS\n",
    "assert np.sum(predict(X_train, np.ones(d+1).reshape(-1, 1)).reshape(-1, 1)) == n_train\n"
   ]
  },
  {
   "cell_type": "markdown",
   "metadata": {},
   "source": [
    "### Candidate list for $\\mathbf{w}$\n",
    "we give you a small candidates list `candids` of $\\mathbf{w}$'s. We want you to find $\\mathbf{w}^*$ in this list which gives you the smallest error over **training set**."
   ]
  },
  {
   "cell_type": "code",
   "execution_count": 133,
   "metadata": {},
   "outputs": [
    {
     "name": "stdout",
     "output_type": "stream",
     "text": [
      "size of candidates lists 10\n",
      "[[ 0.24771893]\n",
      " [ 0.0797402 ]\n",
      " [ 0.06736309]\n",
      " [ 0.12221225]\n",
      " [ 0.00692924]\n",
      " [ 0.30678176]\n",
      " [ 0.1730867 ]\n",
      " [ 0.02923004]\n",
      " [ 0.33520645]\n",
      " [ 0.06869451]\n",
      " [-0.8189899 ]]\n"
     ]
    }
   ],
   "source": [
    "# Loading candidates list candids = [w0,w1,...]\n",
    "import pickle\n",
    "with open('candids.pkl', 'rb') as f:\n",
    "    candids = pickle.load(f)\n",
    "print(\"size of candidates lists %d\"%len(candids))\n",
    "print(candids[0])"
   ]
  },
  {
   "cell_type": "code",
   "execution_count": 134,
   "metadata": {},
   "outputs": [
    {
     "name": "stdout",
     "output_type": "stream",
     "text": [
      "Training Error of candidates:\n",
      "Candidate # 0 has error 0.252\n",
      "Candidate # 1 has error 0.273\n",
      "Candidate # 2 has error 0.0\n",
      "Candidate # 3 has error 0.285\n",
      "Candidate # 4 has error 0.29\n",
      "Candidate # 5 has error 0.327\n",
      "Candidate # 6 has error 0.18\n",
      "Candidate # 7 has error 0.265\n",
      "Candidate # 8 has error 0.223\n",
      "Candidate # 9 has error 0.206\n",
      "Index of best predictor: 2\n",
      "Best Predictor:\n",
      "[[ 0.22045993]\n",
      " [ 0.        ]\n",
      " [ 0.        ]\n",
      " [ 0.11585252]\n",
      " [ 0.        ]\n",
      " [ 0.28635182]\n",
      " [ 0.14144608]\n",
      " [ 0.        ]\n",
      " [ 0.25414682]\n",
      " [ 0.        ]\n",
      " [-0.87828279]]\n"
     ]
    }
   ],
   "source": [
    "# (ACT11) fill err_list with training error of each candidate w\n",
    "err_list = []  \n",
    "for i in range(len(candids)):  \n",
    "    y_pred = predict(X_train, candids[i])  \n",
    "    e = err(y_train, y_pred)  # Compute the training error using the true labels and predicted labels\n",
    "    err_list.append(e)  \n",
    "\n",
    "# (ACT12) index of w with smallest error over training set \n",
    "best_index = np.argmin(err_list)  \n",
    "\n",
    "# Print the training errors of candidates\n",
    "print(\"Training Error of candidates:\")\n",
    "for i, err in enumerate(err_list):\n",
    "    print(f\"Candidate # {i} has error {err}\")\n",
    "\n",
    "# Print the index of the best predictor and the best predictor itself\n",
    "print(\"Index of best predictor:\", best_index)\n",
    "print(\"Best Predictor:\")\n",
    "print(candids[best_index])\n",
    "\n",
    "#CHECKS\n",
    "assert(np.sum(err_list) <= 2.5)  # Perform checks on the sum of training errors\n"
   ]
  },
  {
   "cell_type": "code",
   "execution_count": 135,
   "metadata": {},
   "outputs": [
    {
     "name": "stdout",
     "output_type": "stream",
     "text": [
      "[ 1 -1  1 -1 -1 -1 -1 -1 -1 -1]\n"
     ]
    }
   ],
   "source": [
    "# Best predictor\n",
    "w_best = candids[best_index]\n",
    "# Use w_best to predict labels for X_test\n",
    "y_test = predict(X_test, w_best)\n",
    "\n",
    "# Print first 10 predicted labels for test set\n",
    "print(y_test[:10])\n",
    "\n",
    "# CHECKS\n",
    "def my_hash(y):\n",
    "    p1 = 28433\n",
    "    p2 = 577\n",
    "    ret = 0\n",
    "    for e in range(len(y)):\n",
    "        ret = ((ret*p2+int(e)) % p1 + p1) % p1\n",
    "    return ret\n",
    "\n",
    "assert(my_hash(y_test) == 19262)\n"
   ]
  },
  {
   "cell_type": "markdown",
   "metadata": {},
   "source": [
    "## Frequency of words"
   ]
  },
  {
   "cell_type": "code",
   "execution_count": 136,
   "metadata": {},
   "outputs": [
    {
     "data": {
      "image/png": "[encoded data removed]",
      "text/plain": [
       "<Figure size 1200x400 with 2 Axes>"
      ]
     },
     "metadata": {},
     "output_type": "display_data"
    }
   ],
   "source": [
    "import matplotlib.pyplot as plt\n",
    "def X_freq(data,w2i):\n",
    "    freq = []\n",
    "    \n",
    "    for i in range(len(word_val)):\n",
    "        count = 0\n",
    "        for j in range(len(data)):\n",
    "\n",
    "            count += data[j][i] \n",
    "        freq.append(count)\n",
    "    return freq    \n",
    "\n",
    "word_val = w2i.values()        \n",
    "\n",
    "fig, axs = plt.subplots(1, 2, figsize=(12, 4))\n",
    "\n",
    "########### X_train frequency plots ##########\n",
    "axs[1].bar(word_val,X_freq(X_test,word_val), color ='grey')\n",
    "axs[1].set_title(\"X_test Frequency\")\n",
    "axs[1].set_xlabel(\"words_index\")\n",
    "axs[1].set_ylabel(\"Frequency\")\n",
    "# plt.show()\n",
    "######## X_test frequency plots #########\n",
    "axs[0].bar(word_val,X_freq(X_train,word_val),color=\"black\")\n",
    "axs[0].set_title(\"X_train Frequency\")\n",
    "axs[0].set_xlabel(\"words_index\")\n",
    "axs[0].set_ylabel(\"Frequency\")\n",
    "\n",
    "plt.show()"
   ]
  }
 ],
 "metadata": {
  "kernelspec": {
   "display_name": "Python 3 (ipykernel)",
   "language": "python",
   "name": "python3"
  },
  "language_info": {
   "codemirror_mode": {
    "name": "ipython",
    "version": 3
   },
   "file_extension": ".py",
   "mimetype": "text/x-python",
   "name": "python",
   "nbconvert_exporter": "python",
   "pygments_lexer": "ipython3",
   "version": "3.9.13"
  },
  "pycharm": {
   "stem_cell": {
    "cell_type": "raw",
    "metadata": {
     "collapsed": false
    },
    "source": []
   }
  }
 },
 "nbformat": 4,
 "nbformat_minor": 1
}
